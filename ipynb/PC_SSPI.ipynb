{
 "cells": [
  {
   "cell_type": "code",
   "execution_count": 1,
   "metadata": {},
   "outputs": [
    {
     "name": "stderr",
     "output_type": "stream",
     "text": [
      "Warning message in file(filename, \"r\", encoding = encoding):\n",
      "\"cannot open file 'shiny/data.r': No such file or directory\""
     ]
    },
    {
     "ename": "ERROR",
     "evalue": "Error in file(filename, \"r\", encoding = encoding): cannot open the connection\n",
     "output_type": "error",
     "traceback": [
      "Error in file(filename, \"r\", encoding = encoding): cannot open the connection\nTraceback:\n",
      "1. source(\"shiny/data.r\")",
      "2. file(filename, \"r\", encoding = encoding)"
     ]
    }
   ],
   "source": [
    "source('shiny/data.r')\n",
    "source('functions.r')\n",
    "uByCentre()\n",
    "PC <- intersect(unitsByCentre$uList[[3]], activeStation(201712))\n",
    "PCplant <- intersect(unitsByCentre$uList[[3]], activeStation(201712,'p'))"
   ]
  },
  {
   "cell_type": "code",
   "execution_count": null,
   "metadata": {},
   "outputs": [],
   "source": [
    "PC3yrSP1 <- mean(unlist(subset(r,PeriodEndYrMn == 201712 & NumOfMonths == 36 \n",
    "                               & IndicatorCode == 'SP1  ' & LocId %in% PC \n",
    "                               & NonQualCode == ' ', ResultsValue)))\n",
    "PC2yrSP1 <- mean(unlist(subset(r,PeriodEndYrMn == 201712 & NumOfMonths == 24 \n",
    "                               & IndicatorCode == 'SP1  ' & LocId %in% PC \n",
    "                               & NonQualCode == ' ', ResultsValue)))\n",
    "PC3yrSP2 <- mean(unlist(subset(r,PeriodEndYrMn == 201712 & NumOfMonths == 36 \n",
    "                               & IndicatorCode == 'SP2  ' & LocId %in% PC \n",
    "                               & NonQualCode == ' ', ResultsValue)))\n",
    "PC2yrSP2 <- mean(unlist(subset(r,PeriodEndYrMn == 201712 & NumOfMonths == 24 \n",
    "                               & IndicatorCode == 'SP2  ' & LocId %in% PC \n",
    "                               & NonQualCode == ' ', ResultsValue)))\n",
    "PC3yrSP5 <- mean(unlist(subset(r,PeriodEndYrMn == 201712 & NumOfMonths == 36 \n",
    "                               & IndicatorCode == 'SP5  ' & LocId %in% PCplant \n",
    "                               & NonQualCode == ' ', ResultsValue)))\n",
    "PC2yrSP5 <- mean(unlist(subset(r,PeriodEndYrMn == 201712 & NumOfMonths == 24 \n",
    "                               & IndicatorCode == 'SP5  ' & LocId %in% PCplant \n",
    "                               & NonQualCode == ' ', ResultsValue)))\n",
    "\n",
    "W3yrSP1 <- mean(unlist(subset(r,PeriodEndYrMn == 201712 & NumOfMonths == 36 \n",
    "                               & IndicatorCode == 'SP1  ' & LocId %in% activeStation(201712) \n",
    "                               & NonQualCode == ' ', ResultsValue)))\n",
    "W2yrSP1 <- mean(unlist(subset(r,PeriodEndYrMn == 201712 & NumOfMonths == 24 \n",
    "                               & IndicatorCode == 'SP1  ' & LocId %in% activeStation(201712) \n",
    "                               & NonQualCode == ' ', ResultsValue)))\n",
    "W3yrSP2 <- mean(unlist(subset(r,PeriodEndYrMn == 201712 & NumOfMonths == 36 \n",
    "                               & IndicatorCode == 'SP2  ' & LocId %in% activeStation(201712) \n",
    "                               & NonQualCode == ' ', ResultsValue)))\n",
    "W2yrSP2 <- mean(unlist(subset(r,PeriodEndYrMn == 201712 & NumOfMonths == 24 \n",
    "                               & IndicatorCode == 'SP2  ' & LocId %in% activeStation(201712) \n",
    "                               & NonQualCode == ' ', ResultsValue)))\n",
    "W3yrSP5 <- mean(unlist(subset(r,PeriodEndYrMn == 201712 & NumOfMonths == 36 \n",
    "                               & IndicatorCode == 'SP5  ' & LocId %in% activeStation(201712,'p') \n",
    "                               & NonQualCode == ' ', ResultsValue)))\n",
    "W2yrSP5 <- mean(unlist(subset(r,PeriodEndYrMn == 201712 & NumOfMonths == 24 \n",
    "                               & IndicatorCode == 'SP5  ' & LocId %in% activeStation(201712,'p') \n",
    "                               & NonQualCode == ' ', ResultsValue)))\n",
    "df <- data.frame(PC2yrSP1,PC3yrSP1,PC2yrSP2,PC3yrSP2,PC2yrSP5,PC3yrSP5)\n",
    "colnames(df) <- c('2yrSP1','3yrSP1','2yrSP2','3yrSP2','2yrSP5','3yrSP5')\n",
    "df\n",
    "df <- data.frame(W2yrSP1,W3yrSP1,W2yrSP2,W3yrSP2,W2yrSP5,W3yrSP5)\n",
    "colnames(df) <- c('2yrSP1','3yrSP1','2yrSP2','3yrSP2','2yrSP5','3yrSP5')\n",
    "#rownames(df) <- c('PC','World')"
   ]
  },
  {
   "cell_type": "markdown",
   "metadata": {},
   "source": [
    "Median and mean UA7 for WANO PC"
   ]
  },
  {
   "cell_type": "code",
   "execution_count": 42,
   "metadata": {},
   "outputs": [
    {
     "data": {
      "text/html": [
       "0"
      ],
      "text/latex": [
       "0"
      ],
      "text/markdown": [
       "0"
      ],
      "text/plain": [
       "[1] 0"
      ]
     },
     "metadata": {},
     "output_type": "display_data"
    },
    {
     "data": {
      "text/html": [
       "0.407067669737608"
      ],
      "text/latex": [
       "0.407067669737608"
      ],
      "text/markdown": [
       "0.407067669737608"
      ],
      "text/plain": [
       "[1] 0.4070677"
      ]
     },
     "metadata": {},
     "output_type": "display_data"
    },
    {
     "data": {
      "text/html": [
       "133"
      ],
      "text/latex": [
       "133"
      ],
      "text/markdown": [
       "133"
      ],
      "text/plain": [
       "[1] 133"
      ]
     },
     "metadata": {},
     "output_type": "display_data"
    }
   ],
   "source": [
    "ua7 <- unlist(subset(r,LocId %in% PC & IndicatorCode == 'UA7  ' & NumOfMonths == 24 & NonQualCode == ' ' & PeriodEndYrMn == 201712, ResultsValue))\n",
    "median(ua7)\n",
    "mean(ua7)\n",
    "length(ua7)"
   ]
  },
  {
   "cell_type": "markdown",
   "metadata": {},
   "source": [
    "Experiments with DB connection"
   ]
  },
  {
   "cell_type": "code",
   "execution_count": 27,
   "metadata": {
    "collapsed": true
   },
   "outputs": [],
   "source": [
    "channel <- odbcDriverConnect(\"Driver={SQL Server};Server=sqllon03\\\\it;Database=WANO_Staging;uid=PIDBConnect;pwd=Wan0$PIDB;Trusted_Connection=No\")"
   ]
  },
  {
   "cell_type": "code",
   "execution_count": 25,
   "metadata": {},
   "outputs": [
    {
     "ename": "ERROR",
     "evalue": "Error in sqlTables(channel, schema = \"dbo\", tableType = \"TABLE\"): first argument is not an open RODBC channel\n",
     "output_type": "error",
     "traceback": [
      "Error in sqlTables(channel, schema = \"dbo\", tableType = \"TABLE\"): first argument is not an open RODBC channel\nTraceback:\n",
      "1. sqlTables(channel, schema = \"dbo\", tableType = \"TABLE\")",
      "2. stop(\"first argument is not an open RODBC channel\")"
     ]
    }
   ],
   "source": [
    "tables <- sqlTables(channel,schema='dbo',tableType='TABLE')\n",
    "tables <- unlist(tables[3])\n",
    "tbl <- c()\n",
    "for (pi in grep('PI_',tables))\n",
    "    tbl <- c(tbl,tables[pi])"
   ]
  },
  {
   "cell_type": "code",
   "execution_count": 23,
   "metadata": {},
   "outputs": [
    {
     "name": "stdout",
     "output_type": "stream",
     "text": [
      "[1] \"PI_CategoryCodes\"\n",
      "[1] \"PI_CategoryGroupLabels\"\n",
      "[1] \"PI_CategoryGroups\"\n",
      "[1] \"PI_CategoryGroupUnits\"\n",
      "[1] \"PI_DataStatus\"\n",
      "[1] \"PI_DataSubmittal\"\n",
      "[1] \"PI_ElementCodes\"\n",
      "[1] \"PI_IndComments\"\n",
      "[1] \"PI_IndEffectiveDatedValues\"\n",
      "[1] \"PI_IndicatorCodes\"\n",
      "[1] \"PI_IndValues\"\n",
      "[1] \"PI_LabelCodes\"\n",
      "[1] \"PI_MeasureCodes\"\n",
      "[1] \"PI_NonQualCodes\"\n",
      "[1] \"PI_NsssSubTypeLookup\"\n",
      "[1] \"PI_NsssSubTypeMap\"\n",
      "[1] \"PI_NsssTypeLookup\"\n",
      "[1] \"PI_Person\"\n",
      "[1] \"PI_PersonContact\"\n",
      "[1] \"PI_Place\"\n",
      "[1] \"PI_PlaceAttribute\"\n",
      "[1] \"PI_PlaceAttributeTypeLookup\"\n",
      "[1] \"PI_PlaceRelationship\"\n",
      "[1] \"PI_PlaceRelationshipLookup\"\n",
      "[1] \"PI_PlaceTypeLookup\"\n",
      "[1] \"PI_Results\"\n",
      "[1] \"PI_ResultsGroupIndex\"\n",
      "[1] \"PI_ResultsIndex\"\n",
      "[1] \"PI_ResultsIndexCycleMns\"\n",
      "[1] \"PI_ResultsIndexGroup\"\n",
      "[1] \"PI_ResultsIndexIndicatorNumOfMns\"\n",
      "[1] \"PI_ResultsIndexLookup\"\n",
      "[1] \"PI_ResultsIndexParms\"\n",
      "[1] \"PI_ResultsQtrIndex\"\n",
      "[1] \"PI_SourceDataCode\"\n",
      "[1] \"PI_UnitData\"\n",
      "[1] \"PI_UnitDate\"\n",
      "[1] \"PI_UnitDateTypeLookup\"\n",
      "[1] \"PI_UsrMstr\"\n"
     ]
    }
   ],
   "source": [
    "for (tn in tbl){\n",
    "    print(tn)\n",
    "    fn = paste('DBCopy/',tn,'.rds',sep='')\n",
    "    t<-sqlFetch(channel,tn)\n",
    "    saveRDS(t,fn)\n",
    "}\n",
    "odbcCloseAll()"
   ]
  },
  {
   "cell_type": "code",
   "execution_count": 43,
   "metadata": {},
   "outputs": [
    {
     "name": "stderr",
     "output_type": "stream",
     "text": [
      "Warning message:\n",
      "\"running command 'zip.exe -r DBCopy.zip DBCopy' had status 127\""
     ]
    }
   ],
   "source": [
    "system('zip.exe -r DBCopy.zip DBCopy')"
   ]
  }
 ],
 "metadata": {
  "kernelspec": {
   "display_name": "R",
   "language": "R",
   "name": "ir"
  },
  "language_info": {
   "codemirror_mode": "r",
   "file_extension": ".r",
   "mimetype": "text/x-r-source",
   "name": "R",
   "pygments_lexer": "r",
   "version": "3.4.3"
  }
 },
 "nbformat": 4,
 "nbformat_minor": 2
}
