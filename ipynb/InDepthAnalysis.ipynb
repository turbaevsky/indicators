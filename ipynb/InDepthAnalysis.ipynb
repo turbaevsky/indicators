{
 "cells": [
  {
   "cell_type": "markdown",
   "metadata": {},
   "source": [
    "# Quarter in-depth PI analysis\n",
    "\n",
    "This report has been based on modified WANO PC approach. The purpose of this report is defining the units which need more support."
   ]
  },
  {
   "cell_type": "code",
   "execution_count": 1,
   "metadata": {},
   "outputs": [],
   "source": [
    "#install.packages('logging', repos='http://cran.us.r-project.org')"
   ]
  },
  {
   "cell_type": "markdown",
   "metadata": {},
   "source": [
    "Analysing quarter"
   ]
  },
  {
   "cell_type": "code",
   "execution_count": 2,
   "metadata": {},
   "outputs": [],
   "source": [
    "EndDate <- 201806"
   ]
  },
  {
   "cell_type": "markdown",
   "metadata": {},
   "source": [
    "Read all the necessary data and function"
   ]
  },
  {
   "cell_type": "code",
   "execution_count": 11,
   "metadata": {},
   "outputs": [
    {
     "name": "stdout",
     "output_type": "stream",
     "text": [
      "[1] \"Reading tables...\"\n",
      "  |======================================================================| 100%\n"
     ]
    },
    {
     "name": "stderr",
     "output_type": "stream",
     "text": [
      "Warning message:\n",
      "\"package 'logging' was built under R version 3.4.4\"Warning message:\n",
      "\"package 'DBI' was built under R version 3.4.4\"Warning message:\n",
      "\"package 'anytime' was built under R version 3.4.4\""
     ]
    }
   ],
   "source": [
    "setwd('C:/Users/Volodymyr.Turbayevsk/Docs/PycharmProjects/indicators')\n",
    "source('data.r')"
   ]
  },
  {
   "cell_type": "markdown",
   "metadata": {},
   "source": [
    "Criteria for FLR: the average two-year indicator is in the bottom decile in worlwide comparison\n",
    "\n",
    "SP1, SP2 and SP5 - indicator is safety related.\n",
    "\n",
    "Criteria for US7: \n",
    "- first filter: at least one scram occured during the last monitored quarter\n",
    "- second filter: three or more scrams occured in the last 12 months\n",
    "\n",
    "Criteria for FRI: calculated value is above the Defect Fuel Reference"
   ]
  },
  {
   "cell_type": "code",
   "execution_count": 12,
   "metadata": {},
   "outputs": [],
   "source": [
    "#tail(r)\n",
    "IDbyName <- function(name){return(subset(place,AbbrevLocName==name,LocId)[[1]])}"
   ]
  },
  {
   "cell_type": "markdown",
   "metadata": {},
   "source": [
    "FLR: the average two-year indicator is in the bottom decile in worlwide comparison"
   ]
  },
  {
   "cell_type": "code",
   "execution_count": 13,
   "metadata": {},
   "outputs": [],
   "source": [
    "flr_lim <- quantile(subset(r, IndicatorCode == 'FLR  ' & PeriodEndYrMn == EndDate & NumOfMonths == 24 & NonQualCode == ' ',ResultsValue)[[1]],probs=0.9)[[1]]\n",
    "flr <- subset(r, IndicatorCode == 'FLR  ' & PeriodEndYrMn == EndDate & NumOfMonths == 24 & NonQualCode == ' ' & ResultsValue>=flr_lim,LocId)[[1]]\n",
    "flr <- nameByID(flr)"
   ]
  },
  {
   "cell_type": "markdown",
   "metadata": {},
   "source": [
    "Units which is above the safety system criteria (0.02 for SP1-2, 0.025 for SP5) for 3-yrs data window"
   ]
  },
  {
   "cell_type": "code",
   "execution_count": 14,
   "metadata": {},
   "outputs": [],
   "source": [
    "sp12 <- nameByID(subset(r, IndicatorCode %in% c('SP1  ','SP2  ') & PeriodEndYrMn == EndDate & NumOfMonths == 36 & NonQualCode == ' ' & ResultsValue >=0.02,LocId)[[1]])\n",
    "sp5 <- nameByID(subset(r, IndicatorCode == 'SP5  ' & PeriodEndYrMn == EndDate & NumOfMonths == 36 & NonQualCode == ' ' & ResultsValue >=0.025,LocId)[[1]])"
   ]
  },
  {
   "cell_type": "markdown",
   "metadata": {},
   "source": [
    "Units which has at least one scram occured during the last monitored quarter"
   ]
  },
  {
   "cell_type": "code",
   "execution_count": 15,
   "metadata": {},
   "outputs": [],
   "source": [
    "#tail(data)\n",
    "scram <-nameByID(unique(subset(data,YrMn %in% c(EndDate-2, EndDate-1 ,EndDate) & ElementCode %in% c('C1   ','C3   ') & ElementValue>0, SourceId))[[1]])"
   ]
  },
  {
   "cell_type": "markdown",
   "metadata": {},
   "source": [
    "Units which has three or more scrams for the last 12 months"
   ]
  },
  {
   "cell_type": "code",
   "execution_count": 16,
   "metadata": {},
   "outputs": [],
   "source": [
    "scrams3 <- nameByID(unique(subset(data,YrMn > (EndDate-100) & ElementCode %in% c('C1   ','C3   ') & ElementValue>=3, SourceId))[[1]])"
   ]
  },
  {
   "cell_type": "markdown",
   "metadata": {
    "collapsed": true
   },
   "source": [
    "FRI: calculated value is above the Defect Fuel Reference"
   ]
  },
  {
   "cell_type": "code",
   "execution_count": 17,
   "metadata": {},
   "outputs": [],
   "source": [
    "u <- uByType()\n",
    "fri2 <- nameByID(subset(r, IndicatorCode == 'FRI  ' & PeriodEndYrMn == EndDate & NumOfMonths == 3 & NonQualCode == ' ' & ResultsValue >=300 & LocId %in% u$rType[[2]],LocId)[[1]])\n",
    "fri45 <- nameByID(subset(r, IndicatorCode == 'FRI  ' & PeriodEndYrMn == EndDate & NumOfMonths == 3 & NonQualCode == ' ' & ResultsValue >=5e-4 & LocId %in% c(u$rType[[4]],u$rType[[5]]),LocId)[[1]])\n",
    "fri1 <- nameByID(subset(r, IndicatorCode == 'FRI  ' & PeriodEndYrMn == EndDate & NumOfMonths == 3 & NonQualCode == ' ' & ResultsValue >=1e-3 & LocId %in% u$rType[[1]],LocId)[[1]])\n",
    "fri3 <- nameByID(subset(r, IndicatorCode == 'FRI  ' & PeriodEndYrMn == EndDate & NumOfMonths == 3 & NonQualCode == ' ' & ResultsValue >=1e-3 & LocId %in% u$rType[[3]],LocId)[[1]])\n",
    "fri <- c(fri1,fri2,fri3,fri45)"
   ]
  },
  {
   "cell_type": "markdown",
   "metadata": {},
   "source": [
    "*Note: FRI criteria for AGR and LWCGR are based on Index calculation*"
   ]
  },
  {
   "cell_type": "markdown",
   "metadata": {},
   "source": [
    "The whole list of units which have some issues"
   ]
  },
  {
   "cell_type": "code",
   "execution_count": 18,
   "metadata": {},
   "outputs": [],
   "source": [
    "onFocus <- sort(unique(c(flr,sp12,sp5,scram,scrams3,fri)))"
   ]
  },
  {
   "cell_type": "code",
   "execution_count": 19,
   "metadata": {},
   "outputs": [
    {
     "data": {
      "text/html": [
       "<table>\n",
       "<thead><tr><th scope=col>onFocus</th><th scope=col>FLR</th><th scope=col>SSPI</th><th scope=col>Scram</th><th scope=col>Scrams</th><th scope=col>FRI</th><th scope=col>Idx</th></tr></thead>\n",
       "<tbody>\n",
       "\t<tr><td>Angra 1-1                     </td><td>                              </td><td>                              </td><td>X                             </td><td>                              </td><td>                              </td><td> 76                           </td></tr>\n",
       "\t<tr><td>ANO                           </td><td>                              </td><td>X                             </td><td>                              </td><td>                              </td><td>                              </td><td>  0                           </td></tr>\n",
       "\t<tr><td>ANO Unit 1                    </td><td>                              </td><td>                              </td><td>X                             </td><td>                              </td><td>                              </td><td> 79                           </td></tr>\n",
       "\t<tr><td>ANO Unit 2                    </td><td>X                             </td><td>X                             </td><td>                              </td><td>                              </td><td>                              </td><td> 73                           </td></tr>\n",
       "\t<tr><td>Atucha 1                      </td><td>                              </td><td>                              </td><td>                              </td><td>                              </td><td>X                             </td><td> 55                           </td></tr>\n",
       "\t<tr><td>Atucha 2                      </td><td>X                             </td><td>                              </td><td>X                             </td><td>                              </td><td>X                             </td><td> 60                           </td></tr>\n",
       "\t<tr><td>Beznau 2                      </td><td>                              </td><td>                              </td><td>                              </td><td>                              </td><td>X                             </td><td> 98                           </td></tr>\n",
       "\t<tr><td>Braidwood Unit 1              </td><td>                              </td><td>                              </td><td>X                             </td><td>                              </td><td>                              </td><td>100                           </td></tr>\n",
       "\t<tr><td>Bruce 8                       </td><td>                              </td><td>                              </td><td>X                             </td><td>                              </td><td>                              </td><td>100                           </td></tr>\n",
       "\t<tr><td>Brunswick                     </td><td>                              </td><td>X                             </td><td>                              </td><td>                              </td><td>                              </td><td>  0                           </td></tr>\n",
       "\t<tr><td>Brunswick Unit 1              </td><td>                              </td><td>                              </td><td>X                             </td><td>                              </td><td>                              </td><td> 99                           </td></tr>\n",
       "\t<tr><td>Cattenom 1                    </td><td>X                             </td><td>                              </td><td>                              </td><td>                              </td><td>                              </td><td> 66                           </td></tr>\n",
       "\t<tr><td>Cattenom 2                    </td><td>X                             </td><td>                              </td><td>                              </td><td>                              </td><td>                              </td><td> 61                           </td></tr>\n",
       "\t<tr><td>Changjiang 2                  </td><td>                              </td><td>                              </td><td>X                             </td><td>                              </td><td>                              </td><td> 82                           </td></tr>\n",
       "\t<tr><td>Chasnupp 1                    </td><td>                              </td><td>                              </td><td>X                             </td><td>                              </td><td>                              </td><td> 75                           </td></tr>\n",
       "\t<tr><td>Chasnupp 2                    </td><td>                              </td><td>                              </td><td>X                             </td><td>                              </td><td>                              </td><td> 89                           </td></tr>\n",
       "\t<tr><td>Chasnupp 3                    </td><td>                              </td><td>                              </td><td>X                             </td><td>X                             </td><td>                              </td><td> 72                           </td></tr>\n",
       "\t<tr><td>Chasnupp 4                    </td><td>                              </td><td>                              </td><td>X                             </td><td>X                             </td><td>                              </td><td> 92                           </td></tr>\n",
       "\t<tr><td>Civaux 1                      </td><td>                              </td><td>                              </td><td>                              </td><td>                              </td><td>X                             </td><td> 75                           </td></tr>\n",
       "\t<tr><td>Columbia Unit 2               </td><td>                              </td><td>                              </td><td>X                             </td><td>                              </td><td>                              </td><td> 90                           </td></tr>\n",
       "\t<tr><td>Comanche Peak Unit 2          </td><td>X                             </td><td>                              </td><td>                              </td><td>                              </td><td>                              </td><td> 70                           </td></tr>\n",
       "\t<tr><td>Cook Unit 2                   </td><td>                              </td><td>                              </td><td>X                             </td><td>                              </td><td>                              </td><td> 91                           </td></tr>\n",
       "\t<tr><td>Dampierre 2                   </td><td>X                             </td><td>                              </td><td>                              </td><td>                              </td><td>                              </td><td> 66                           </td></tr>\n",
       "\t<tr><td>Darlington 1                  </td><td>                              </td><td>                              </td><td>                              </td><td>                              </td><td>X                             </td><td> 67                           </td></tr>\n",
       "\t<tr><td>Darlington 2                  </td><td>X                             </td><td>                              </td><td>                              </td><td>                              </td><td>                              </td><td> 68                           </td></tr>\n",
       "\t<tr><td>Diablo Canyon Unit 2          </td><td>                              </td><td>X                             </td><td>                              </td><td>                              </td><td>                              </td><td> 90                           </td></tr>\n",
       "\t<tr><td>Doel 4                        </td><td>                              </td><td>                              </td><td>X                             </td><td>                              </td><td>                              </td><td> 85                           </td></tr>\n",
       "\t<tr><td>Dresden Unit 2                </td><td>                              </td><td>                              </td><td>                              </td><td>                              </td><td>X                             </td><td> 99                           </td></tr>\n",
       "\t<tr><td>Dukovany 1                    </td><td>                              </td><td>X                             </td><td>                              </td><td>                              </td><td>                              </td><td> 83                           </td></tr>\n",
       "\t<tr><td>Dukovany 2                    </td><td>                              </td><td>X                             </td><td>                              </td><td>                              </td><td>                              </td><td> 72                           </td></tr>\n",
       "\t<tr><td>...</td><td>...</td><td>...</td><td>...</td><td>...</td><td>...</td><td>...</td></tr>\n",
       "\t<tr><td>Palo Verde Unit 2             </td><td>                              </td><td>                              </td><td>X                             </td><td>                              </td><td>                              </td><td>100                           </td></tr>\n",
       "\t<tr><td>Palo Verde Unit 3             </td><td>                              </td><td>                              </td><td>X                             </td><td>                              </td><td>                              </td><td> 97                           </td></tr>\n",
       "\t<tr><td>Peach Bottom Unit 3           </td><td>                              </td><td>                              </td><td>                              </td><td>                              </td><td>X                             </td><td> 97                           </td></tr>\n",
       "\t<tr><td>Penly 2                       </td><td>                              </td><td>                              </td><td>                              </td><td>                              </td><td>X                             </td><td> 78                           </td></tr>\n",
       "\t<tr><td>Pickering 1                   </td><td>                              </td><td>                              </td><td>                              </td><td>                              </td><td>X                             </td><td> 65                           </td></tr>\n",
       "\t<tr><td>Pickering 4                   </td><td>                              </td><td>                              </td><td>X                             </td><td>                              </td><td>                              </td><td> 70                           </td></tr>\n",
       "\t<tr><td>Pickering 7                   </td><td>X                             </td><td>                              </td><td>                              </td><td>                              </td><td>                              </td><td> 69                           </td></tr>\n",
       "\t<tr><td>Pickering 8                   </td><td>                              </td><td>                              </td><td>                              </td><td>                              </td><td>X                             </td><td> 73                           </td></tr>\n",
       "\t<tr><td>Rajasthan 2                   </td><td>X                             </td><td>                              </td><td>X                             </td><td>X                             </td><td>X                             </td><td> 55                           </td></tr>\n",
       "\t<tr><td>Rajasthan 3                   </td><td>                              </td><td>                              </td><td>                              </td><td>                              </td><td>X                             </td><td> 86                           </td></tr>\n",
       "\t<tr><td>Rajasthan 4                   </td><td>                              </td><td>                              </td><td>X                             </td><td>                              </td><td>X                             </td><td> 83                           </td></tr>\n",
       "\t<tr><td>Rajasthan 6                   </td><td>X                             </td><td>                              </td><td>                              </td><td>                              </td><td>X                             </td><td> 65                           </td></tr>\n",
       "\t<tr><td>River Bend Unit 1             </td><td>                              </td><td>                              </td><td>                              </td><td>                              </td><td>X                             </td><td> 64                           </td></tr>\n",
       "\t<tr><td>Rostov 2                      </td><td>X                             </td><td>                              </td><td>                              </td><td>                              </td><td>                              </td><td> 82                           </td></tr>\n",
       "\t<tr><td>Rovno 3                       </td><td>X                             </td><td>                              </td><td>                              </td><td>                              </td><td>                              </td><td> 67                           </td></tr>\n",
       "\t<tr><td>Salem Unit 2                  </td><td>X                             </td><td>                              </td><td>X                             </td><td>                              </td><td>                              </td><td> 97                           </td></tr>\n",
       "\t<tr><td>Smolensk 2                    </td><td>X                             </td><td>                              </td><td>X                             </td><td>                              </td><td>                              </td><td> 66                           </td></tr>\n",
       "\t<tr><td>South Ukraine 2               </td><td>X                             </td><td>                              </td><td>                              </td><td>                              </td><td>                              </td><td> 66                           </td></tr>\n",
       "\t<tr><td>Temelin 2                     </td><td>                              </td><td>                              </td><td>                              </td><td>                              </td><td>X                             </td><td> 65                           </td></tr>\n",
       "\t<tr><td>Tianwan 1                     </td><td>                              </td><td>                              </td><td>X                             </td><td>                              </td><td>                              </td><td> 97                           </td></tr>\n",
       "\t<tr><td>Tihange 1                     </td><td>X                             </td><td>                              </td><td>                              </td><td>                              </td><td>                              </td><td> 55                           </td></tr>\n",
       "\t<tr><td>Torness 1                     </td><td>                              </td><td>                              </td><td>X                             </td><td>                              </td><td>                              </td><td> 95                           </td></tr>\n",
       "\t<tr><td>Tricastin 1                   </td><td>X                             </td><td>                              </td><td>                              </td><td>                              </td><td>                              </td><td> 56                           </td></tr>\n",
       "\t<tr><td>Tricastin 2                   </td><td>X                             </td><td>                              </td><td>                              </td><td>                              </td><td>                              </td><td> 64                           </td></tr>\n",
       "\t<tr><td>Tricastin 3                   </td><td>X                             </td><td>                              </td><td>                              </td><td>                              </td><td>                              </td><td> 66                           </td></tr>\n",
       "\t<tr><td>Tricastin 4                   </td><td>X                             </td><td>                              </td><td>                              </td><td>                              </td><td>                              </td><td> 58                           </td></tr>\n",
       "\t<tr><td>Watts Bar Unit 2              </td><td>X                             </td><td>                              </td><td>X                             </td><td>                              </td><td>                              </td><td> 55                           </td></tr>\n",
       "\t<tr><td>Wolsong 3                     </td><td>X                             </td><td>                              </td><td>                              </td><td>                              </td><td>                              </td><td> 70                           </td></tr>\n",
       "\t<tr><td>Yangjiang 2                   </td><td>                              </td><td>                              </td><td>                              </td><td>                              </td><td>X                             </td><td> 90                           </td></tr>\n",
       "\t<tr><td>Zaporozhye 6                  </td><td>                              </td><td>                              </td><td>X                             </td><td>                              </td><td>                              </td><td> 86                           </td></tr>\n",
       "</tbody>\n",
       "</table>\n"
      ],
      "text/latex": [
       "\\begin{tabular}{r|lllllll}\n",
       " onFocus & FLR & SSPI & Scram & Scrams & FRI & Idx\\\\\n",
       "\\hline\n",
       "\t Angra 1-1                      &                                &                                & X                              &                                &                                &  76                           \\\\\n",
       "\t ANO                            &                                & X                              &                                &                                &                                &   0                           \\\\\n",
       "\t ANO Unit 1                     &                                &                                & X                              &                                &                                &  79                           \\\\\n",
       "\t ANO Unit 2                     & X                              & X                              &                                &                                &                                &  73                           \\\\\n",
       "\t Atucha 1                       &                                &                                &                                &                                & X                              &  55                           \\\\\n",
       "\t Atucha 2                       & X                              &                                & X                              &                                & X                              &  60                           \\\\\n",
       "\t Beznau 2                       &                                &                                &                                &                                & X                              &  98                           \\\\\n",
       "\t Braidwood Unit 1               &                                &                                & X                              &                                &                                & 100                           \\\\\n",
       "\t Bruce 8                        &                                &                                & X                              &                                &                                & 100                           \\\\\n",
       "\t Brunswick                      &                                & X                              &                                &                                &                                &   0                           \\\\\n",
       "\t Brunswick Unit 1               &                                &                                & X                              &                                &                                &  99                           \\\\\n",
       "\t Cattenom 1                     & X                              &                                &                                &                                &                                &  66                           \\\\\n",
       "\t Cattenom 2                     & X                              &                                &                                &                                &                                &  61                           \\\\\n",
       "\t Changjiang 2                   &                                &                                & X                              &                                &                                &  82                           \\\\\n",
       "\t Chasnupp 1                     &                                &                                & X                              &                                &                                &  75                           \\\\\n",
       "\t Chasnupp 2                     &                                &                                & X                              &                                &                                &  89                           \\\\\n",
       "\t Chasnupp 3                     &                                &                                & X                              & X                              &                                &  72                           \\\\\n",
       "\t Chasnupp 4                     &                                &                                & X                              & X                              &                                &  92                           \\\\\n",
       "\t Civaux 1                       &                                &                                &                                &                                & X                              &  75                           \\\\\n",
       "\t Columbia Unit 2                &                                &                                & X                              &                                &                                &  90                           \\\\\n",
       "\t Comanche Peak Unit 2           & X                              &                                &                                &                                &                                &  70                           \\\\\n",
       "\t Cook Unit 2                    &                                &                                & X                              &                                &                                &  91                           \\\\\n",
       "\t Dampierre 2                    & X                              &                                &                                &                                &                                &  66                           \\\\\n",
       "\t Darlington 1                   &                                &                                &                                &                                & X                              &  67                           \\\\\n",
       "\t Darlington 2                   & X                              &                                &                                &                                &                                &  68                           \\\\\n",
       "\t Diablo Canyon Unit 2           &                                & X                              &                                &                                &                                &  90                           \\\\\n",
       "\t Doel 4                         &                                &                                & X                              &                                &                                &  85                           \\\\\n",
       "\t Dresden Unit 2                 &                                &                                &                                &                                & X                              &  99                           \\\\\n",
       "\t Dukovany 1                     &                                & X                              &                                &                                &                                &  83                           \\\\\n",
       "\t Dukovany 2                     &                                & X                              &                                &                                &                                &  72                           \\\\\n",
       "\t ... & ... & ... & ... & ... & ... & ...\\\\\n",
       "\t Palo Verde Unit 2              &                                &                                & X                              &                                &                                & 100                           \\\\\n",
       "\t Palo Verde Unit 3              &                                &                                & X                              &                                &                                &  97                           \\\\\n",
       "\t Peach Bottom Unit 3            &                                &                                &                                &                                & X                              &  97                           \\\\\n",
       "\t Penly 2                        &                                &                                &                                &                                & X                              &  78                           \\\\\n",
       "\t Pickering 1                    &                                &                                &                                &                                & X                              &  65                           \\\\\n",
       "\t Pickering 4                    &                                &                                & X                              &                                &                                &  70                           \\\\\n",
       "\t Pickering 7                    & X                              &                                &                                &                                &                                &  69                           \\\\\n",
       "\t Pickering 8                    &                                &                                &                                &                                & X                              &  73                           \\\\\n",
       "\t Rajasthan 2                    & X                              &                                & X                              & X                              & X                              &  55                           \\\\\n",
       "\t Rajasthan 3                    &                                &                                &                                &                                & X                              &  86                           \\\\\n",
       "\t Rajasthan 4                    &                                &                                & X                              &                                & X                              &  83                           \\\\\n",
       "\t Rajasthan 6                    & X                              &                                &                                &                                & X                              &  65                           \\\\\n",
       "\t River Bend Unit 1              &                                &                                &                                &                                & X                              &  64                           \\\\\n",
       "\t Rostov 2                       & X                              &                                &                                &                                &                                &  82                           \\\\\n",
       "\t Rovno 3                        & X                              &                                &                                &                                &                                &  67                           \\\\\n",
       "\t Salem Unit 2                   & X                              &                                & X                              &                                &                                &  97                           \\\\\n",
       "\t Smolensk 2                     & X                              &                                & X                              &                                &                                &  66                           \\\\\n",
       "\t South Ukraine 2                & X                              &                                &                                &                                &                                &  66                           \\\\\n",
       "\t Temelin 2                      &                                &                                &                                &                                & X                              &  65                           \\\\\n",
       "\t Tianwan 1                      &                                &                                & X                              &                                &                                &  97                           \\\\\n",
       "\t Tihange 1                      & X                              &                                &                                &                                &                                &  55                           \\\\\n",
       "\t Torness 1                      &                                &                                & X                              &                                &                                &  95                           \\\\\n",
       "\t Tricastin 1                    & X                              &                                &                                &                                &                                &  56                           \\\\\n",
       "\t Tricastin 2                    & X                              &                                &                                &                                &                                &  64                           \\\\\n",
       "\t Tricastin 3                    & X                              &                                &                                &                                &                                &  66                           \\\\\n",
       "\t Tricastin 4                    & X                              &                                &                                &                                &                                &  58                           \\\\\n",
       "\t Watts Bar Unit 2               & X                              &                                & X                              &                                &                                &  55                           \\\\\n",
       "\t Wolsong 3                      & X                              &                                &                                &                                &                                &  70                           \\\\\n",
       "\t Yangjiang 2                    &                                &                                &                                &                                & X                              &  90                           \\\\\n",
       "\t Zaporozhye 6                   &                                &                                & X                              &                                &                                &  86                           \\\\\n",
       "\\end{tabular}\n"
      ],
      "text/markdown": [
       "\n",
       "onFocus | FLR | SSPI | Scram | Scrams | FRI | Idx | \n",
       "|---|---|---|---|---|---|---|---|---|---|---|---|---|---|---|---|---|---|---|---|---|---|---|---|---|---|---|---|---|---|---|---|---|---|---|---|---|---|---|---|---|---|---|---|---|---|---|---|---|---|---|---|---|---|---|---|---|---|---|---|---|\n",
       "| Angra 1-1                      |                                |                                | X                              |                                |                                |  76                            | \n",
       "| ANO                            |                                | X                              |                                |                                |                                |   0                            | \n",
       "| ANO Unit 1                     |                                |                                | X                              |                                |                                |  79                            | \n",
       "| ANO Unit 2                     | X                              | X                              |                                |                                |                                |  73                            | \n",
       "| Atucha 1                       |                                |                                |                                |                                | X                              |  55                            | \n",
       "| Atucha 2                       | X                              |                                | X                              |                                | X                              |  60                            | \n",
       "| Beznau 2                       |                                |                                |                                |                                | X                              |  98                            | \n",
       "| Braidwood Unit 1               |                                |                                | X                              |                                |                                | 100                            | \n",
       "| Bruce 8                        |                                |                                | X                              |                                |                                | 100                            | \n",
       "| Brunswick                      |                                | X                              |                                |                                |                                |   0                            | \n",
       "| Brunswick Unit 1               |                                |                                | X                              |                                |                                |  99                            | \n",
       "| Cattenom 1                     | X                              |                                |                                |                                |                                |  66                            | \n",
       "| Cattenom 2                     | X                              |                                |                                |                                |                                |  61                            | \n",
       "| Changjiang 2                   |                                |                                | X                              |                                |                                |  82                            | \n",
       "| Chasnupp 1                     |                                |                                | X                              |                                |                                |  75                            | \n",
       "| Chasnupp 2                     |                                |                                | X                              |                                |                                |  89                            | \n",
       "| Chasnupp 3                     |                                |                                | X                              | X                              |                                |  72                            | \n",
       "| Chasnupp 4                     |                                |                                | X                              | X                              |                                |  92                            | \n",
       "| Civaux 1                       |                                |                                |                                |                                | X                              |  75                            | \n",
       "| Columbia Unit 2                |                                |                                | X                              |                                |                                |  90                            | \n",
       "| Comanche Peak Unit 2           | X                              |                                |                                |                                |                                |  70                            | \n",
       "| Cook Unit 2                    |                                |                                | X                              |                                |                                |  91                            | \n",
       "| Dampierre 2                    | X                              |                                |                                |                                |                                |  66                            | \n",
       "| Darlington 1                   |                                |                                |                                |                                | X                              |  67                            | \n",
       "| Darlington 2                   | X                              |                                |                                |                                |                                |  68                            | \n",
       "| Diablo Canyon Unit 2           |                                | X                              |                                |                                |                                |  90                            | \n",
       "| Doel 4                         |                                |                                | X                              |                                |                                |  85                            | \n",
       "| Dresden Unit 2                 |                                |                                |                                |                                | X                              |  99                            | \n",
       "| Dukovany 1                     |                                | X                              |                                |                                |                                |  83                            | \n",
       "| Dukovany 2                     |                                | X                              |                                |                                |                                |  72                            | \n",
       "| ... | ... | ... | ... | ... | ... | ... | \n",
       "| Palo Verde Unit 2              |                                |                                | X                              |                                |                                | 100                            | \n",
       "| Palo Verde Unit 3              |                                |                                | X                              |                                |                                |  97                            | \n",
       "| Peach Bottom Unit 3            |                                |                                |                                |                                | X                              |  97                            | \n",
       "| Penly 2                        |                                |                                |                                |                                | X                              |  78                            | \n",
       "| Pickering 1                    |                                |                                |                                |                                | X                              |  65                            | \n",
       "| Pickering 4                    |                                |                                | X                              |                                |                                |  70                            | \n",
       "| Pickering 7                    | X                              |                                |                                |                                |                                |  69                            | \n",
       "| Pickering 8                    |                                |                                |                                |                                | X                              |  73                            | \n",
       "| Rajasthan 2                    | X                              |                                | X                              | X                              | X                              |  55                            | \n",
       "| Rajasthan 3                    |                                |                                |                                |                                | X                              |  86                            | \n",
       "| Rajasthan 4                    |                                |                                | X                              |                                | X                              |  83                            | \n",
       "| Rajasthan 6                    | X                              |                                |                                |                                | X                              |  65                            | \n",
       "| River Bend Unit 1              |                                |                                |                                |                                | X                              |  64                            | \n",
       "| Rostov 2                       | X                              |                                |                                |                                |                                |  82                            | \n",
       "| Rovno 3                        | X                              |                                |                                |                                |                                |  67                            | \n",
       "| Salem Unit 2                   | X                              |                                | X                              |                                |                                |  97                            | \n",
       "| Smolensk 2                     | X                              |                                | X                              |                                |                                |  66                            | \n",
       "| South Ukraine 2                | X                              |                                |                                |                                |                                |  66                            | \n",
       "| Temelin 2                      |                                |                                |                                |                                | X                              |  65                            | \n",
       "| Tianwan 1                      |                                |                                | X                              |                                |                                |  97                            | \n",
       "| Tihange 1                      | X                              |                                |                                |                                |                                |  55                            | \n",
       "| Torness 1                      |                                |                                | X                              |                                |                                |  95                            | \n",
       "| Tricastin 1                    | X                              |                                |                                |                                |                                |  56                            | \n",
       "| Tricastin 2                    | X                              |                                |                                |                                |                                |  64                            | \n",
       "| Tricastin 3                    | X                              |                                |                                |                                |                                |  66                            | \n",
       "| Tricastin 4                    | X                              |                                |                                |                                |                                |  58                            | \n",
       "| Watts Bar Unit 2               | X                              |                                | X                              |                                |                                |  55                            | \n",
       "| Wolsong 3                      | X                              |                                |                                |                                |                                |  70                            | \n",
       "| Yangjiang 2                    |                                |                                |                                |                                | X                              |  90                            | \n",
       "| Zaporozhye 6                   |                                |                                | X                              |                                |                                |  86                            | \n",
       "\n",
       "\n"
      ],
      "text/plain": [
       "    onFocus                        FLR SSPI Scram Scrams FRI Idx\n",
       "1   Angra 1-1                               X                 76\n",
       "2   ANO                                X                       0\n",
       "3   ANO Unit 1                              X                 79\n",
       "4   ANO Unit 2                     X   X                      73\n",
       "5   Atucha 1                                             X    55\n",
       "6   Atucha 2                       X        X            X    60\n",
       "7   Beznau 2                                             X    98\n",
       "8   Braidwood Unit 1                        X                100\n",
       "9   Bruce 8                                 X                100\n",
       "10  Brunswick                          X                       0\n",
       "11  Brunswick Unit 1                        X                 99\n",
       "12  Cattenom 1                     X                          66\n",
       "13  Cattenom 2                     X                          61\n",
       "14  Changjiang 2                            X                 82\n",
       "15  Chasnupp 1                              X                 75\n",
       "16  Chasnupp 2                              X                 89\n",
       "17  Chasnupp 3                              X     X           72\n",
       "18  Chasnupp 4                              X     X           92\n",
       "19  Civaux 1                                             X    75\n",
       "20  Columbia Unit 2                         X                 90\n",
       "21  Comanche Peak Unit 2           X                          70\n",
       "22  Cook Unit 2                             X                 91\n",
       "23  Dampierre 2                    X                          66\n",
       "24  Darlington 1                                         X    67\n",
       "25  Darlington 2                   X                          68\n",
       "26  Diablo Canyon Unit 2               X                      90\n",
       "27  Doel 4                                  X                 85\n",
       "28  Dresden Unit 2                                       X    99\n",
       "29  Dukovany 1                         X                      83\n",
       "30  Dukovany 2                         X                      72\n",
       "... ...                            ... ...  ...   ...    ... ...\n",
       "76  Palo Verde Unit 2                       X                100\n",
       "77  Palo Verde Unit 3                       X                 97\n",
       "78  Peach Bottom Unit 3                                  X    97\n",
       "79  Penly 2                                              X    78\n",
       "80  Pickering 1                                          X    65\n",
       "81  Pickering 4                             X                 70\n",
       "82  Pickering 7                    X                          69\n",
       "83  Pickering 8                                          X    73\n",
       "84  Rajasthan 2                    X        X     X      X    55\n",
       "85  Rajasthan 3                                          X    86\n",
       "86  Rajasthan 4                             X            X    83\n",
       "87  Rajasthan 6                    X                     X    65\n",
       "88  River Bend Unit 1                                    X    64\n",
       "89  Rostov 2                       X                          82\n",
       "90  Rovno 3                        X                          67\n",
       "91  Salem Unit 2                   X        X                 97\n",
       "92  Smolensk 2                     X        X                 66\n",
       "93  South Ukraine 2                X                          66\n",
       "94  Temelin 2                                            X    65\n",
       "95  Tianwan 1                               X                 97\n",
       "96  Tihange 1                      X                          55\n",
       "97  Torness 1                               X                 95\n",
       "98  Tricastin 1                    X                          56\n",
       "99  Tricastin 2                    X                          64\n",
       "100 Tricastin 3                    X                          66\n",
       "101 Tricastin 4                    X                          58\n",
       "102 Watts Bar Unit 2               X        X                 55\n",
       "103 Wolsong 3                      X                          70\n",
       "104 Yangjiang 2                                          X    90\n",
       "105 Zaporozhye 6                            X                 86"
      ]
     },
     "metadata": {},
     "output_type": "display_data"
    },
    {
     "data": {
      "text/html": [
       "105"
      ],
      "text/latex": [
       "105"
      ],
      "text/markdown": [
       "105"
      ],
      "text/plain": [
       "[1] 105"
      ]
     },
     "metadata": {},
     "output_type": "display_data"
    }
   ],
   "source": [
    "df <- data.frame(onFocus)\n",
    "flrCol <- c()\n",
    "sspiCol <-c()\n",
    "S <- c()\n",
    "S3 <- c()\n",
    "FRI <- c()\n",
    "Idx <- c()\n",
    "\n",
    "for (i in df$onFocus){\n",
    "    if (i %in% flr) flrCol <- c(flrCol,'X') else flrCol <- c(flrCol,'')\n",
    "    if (i %in% c(sp12,sp5)) sspiCol <- c(sspiCol,'X') else sspiCol <- c(sspiCol,'')\n",
    "    if (i %in% scram) S <- c(S,'X') else S <- c(S,'')\n",
    "    if (i %in% scrams3) S3 <- c(S3,'X') else S3 <- c(S3,'')\n",
    "    if (i %in% fri) FRI <- c(FRI,'X') else FRI <- c(FRI,'')\n",
    "    index <- round(subset(idx,IndexId==4 & LocId==IDbyName(i) & PeriodEndYrMn==EndDate & NonQualCode==' ',IndexValue)[[1]])\n",
    "    #print(paste(i,index))\n",
    "    if (length(index) && is.numeric(index)) Idx <- c(Idx,index)\n",
    "    else Idx <- c(Idx,0)\n",
    "}\n",
    "#Idx\n",
    "#length(Idx)\n",
    "df$FLR <- flrCol\n",
    "df$SSPI <- sspiCol  \n",
    "df$Scram <- S\n",
    "df$Scrams <- S3\n",
    "df$FRI <- FRI\n",
    "df$Idx <- Idx\n",
    "df\n",
    "write.csv(df,'onFocus.csv')\n",
    "length(df[,1])"
   ]
  },
  {
   "cell_type": "markdown",
   "metadata": {},
   "source": [
    "The list of units which has *more than one* issue listed above - candidates for *units need more attention*"
   ]
  },
  {
   "cell_type": "code",
   "execution_count": 20,
   "metadata": {},
   "outputs": [
    {
     "data": {
      "text/html": [
       "<table>\n",
       "<thead><tr><th></th><th scope=col>onFocus</th><th scope=col>FLR</th><th scope=col>SSPI</th><th scope=col>Scram</th><th scope=col>Scrams</th><th scope=col>FRI</th><th scope=col>Idx</th></tr></thead>\n",
       "<tbody>\n",
       "\t<tr><th scope=row>4</th><td>ANO Unit 2                    </td><td>X                             </td><td>X                             </td><td>                              </td><td>                              </td><td>                              </td><td>73                            </td></tr>\n",
       "\t<tr><th scope=row>6</th><td>Atucha 2                      </td><td>X                             </td><td>                              </td><td>X                             </td><td>                              </td><td>X                             </td><td>60                            </td></tr>\n",
       "\t<tr><th scope=row>17</th><td>Chasnupp 3                    </td><td>                              </td><td>                              </td><td>X                             </td><td>X                             </td><td>                              </td><td>72                            </td></tr>\n",
       "\t<tr><th scope=row>18</th><td>Chasnupp 4                    </td><td>                              </td><td>                              </td><td>X                             </td><td>X                             </td><td>                              </td><td>92                            </td></tr>\n",
       "\t<tr><th scope=row>32</th><td>Dungeness B 1                 </td><td>X                             </td><td>                              </td><td>                              </td><td>                              </td><td>X                             </td><td>71                            </td></tr>\n",
       "\t<tr><th scope=row>33</th><td>Dungeness B 2                 </td><td>X                             </td><td>                              </td><td>                              </td><td>                              </td><td>X                             </td><td>69                            </td></tr>\n",
       "\t<tr><th scope=row>34</th><td>Fermi Unit 2                  </td><td>X                             </td><td>                              </td><td>X                             </td><td>                              </td><td>                              </td><td>69                            </td></tr>\n",
       "\t<tr><th scope=row>35</th><td>Fessenheim 2                  </td><td>X                             </td><td>                              </td><td>X                             </td><td>                              </td><td>                              </td><td>55                            </td></tr>\n",
       "\t<tr><th scope=row>37</th><td>Flamanville 1                 </td><td>X                             </td><td>                              </td><td>X                             </td><td>                              </td><td>                              </td><td>51                            </td></tr>\n",
       "\t<tr><th scope=row>39</th><td>Forsmark 3                    </td><td>X                             </td><td>                              </td><td>X                             </td><td>                              </td><td>X                             </td><td>52                            </td></tr>\n",
       "\t<tr><th scope=row>41</th><td>Grand Gulf Unit 1             </td><td>X                             </td><td>X                             </td><td>                              </td><td>                              </td><td>                              </td><td>58                            </td></tr>\n",
       "\t<tr><th scope=row>60</th><td>Kudankulam 1                  </td><td>X                             </td><td>X                             </td><td>X                             </td><td>                              </td><td>                              </td><td>56                            </td></tr>\n",
       "\t<tr><th scope=row>68</th><td>Narora 1                      </td><td>                              </td><td>                              </td><td>X                             </td><td>                              </td><td>X                             </td><td>77                            </td></tr>\n",
       "\t<tr><th scope=row>69</th><td>Narora 2                      </td><td>                              </td><td>                              </td><td>X                             </td><td>                              </td><td>X                             </td><td>66                            </td></tr>\n",
       "\t<tr><th scope=row>74</th><td>Olkiluoto 2                   </td><td>                              </td><td>                              </td><td>X                             </td><td>                              </td><td>X                             </td><td>82                            </td></tr>\n",
       "\t<tr><th scope=row>84</th><td>Rajasthan 2                   </td><td>X                             </td><td>                              </td><td>X                             </td><td>X                             </td><td>X                             </td><td>55                            </td></tr>\n",
       "\t<tr><th scope=row>86</th><td>Rajasthan 4                   </td><td>                              </td><td>                              </td><td>X                             </td><td>                              </td><td>X                             </td><td>83                            </td></tr>\n",
       "\t<tr><th scope=row>87</th><td>Rajasthan 6                   </td><td>X                             </td><td>                              </td><td>                              </td><td>                              </td><td>X                             </td><td>65                            </td></tr>\n",
       "\t<tr><th scope=row>91</th><td>Salem Unit 2                  </td><td>X                             </td><td>                              </td><td>X                             </td><td>                              </td><td>                              </td><td>97                            </td></tr>\n",
       "\t<tr><th scope=row>92</th><td>Smolensk 2                    </td><td>X                             </td><td>                              </td><td>X                             </td><td>                              </td><td>                              </td><td>66                            </td></tr>\n",
       "\t<tr><th scope=row>102</th><td>Watts Bar Unit 2              </td><td>X                             </td><td>                              </td><td>X                             </td><td>                              </td><td>                              </td><td>55                            </td></tr>\n",
       "</tbody>\n",
       "</table>\n"
      ],
      "text/latex": [
       "\\begin{tabular}{r|lllllll}\n",
       "  & onFocus & FLR & SSPI & Scram & Scrams & FRI & Idx\\\\\n",
       "\\hline\n",
       "\t4 & ANO Unit 2                     & X                              & X                              &                                &                                &                                & 73                            \\\\\n",
       "\t6 & Atucha 2                       & X                              &                                & X                              &                                & X                              & 60                            \\\\\n",
       "\t17 & Chasnupp 3                     &                                &                                & X                              & X                              &                                & 72                            \\\\\n",
       "\t18 & Chasnupp 4                     &                                &                                & X                              & X                              &                                & 92                            \\\\\n",
       "\t32 & Dungeness B 1                  & X                              &                                &                                &                                & X                              & 71                            \\\\\n",
       "\t33 & Dungeness B 2                  & X                              &                                &                                &                                & X                              & 69                            \\\\\n",
       "\t34 & Fermi Unit 2                   & X                              &                                & X                              &                                &                                & 69                            \\\\\n",
       "\t35 & Fessenheim 2                   & X                              &                                & X                              &                                &                                & 55                            \\\\\n",
       "\t37 & Flamanville 1                  & X                              &                                & X                              &                                &                                & 51                            \\\\\n",
       "\t39 & Forsmark 3                     & X                              &                                & X                              &                                & X                              & 52                            \\\\\n",
       "\t41 & Grand Gulf Unit 1              & X                              & X                              &                                &                                &                                & 58                            \\\\\n",
       "\t60 & Kudankulam 1                   & X                              & X                              & X                              &                                &                                & 56                            \\\\\n",
       "\t68 & Narora 1                       &                                &                                & X                              &                                & X                              & 77                            \\\\\n",
       "\t69 & Narora 2                       &                                &                                & X                              &                                & X                              & 66                            \\\\\n",
       "\t74 & Olkiluoto 2                    &                                &                                & X                              &                                & X                              & 82                            \\\\\n",
       "\t84 & Rajasthan 2                    & X                              &                                & X                              & X                              & X                              & 55                            \\\\\n",
       "\t86 & Rajasthan 4                    &                                &                                & X                              &                                & X                              & 83                            \\\\\n",
       "\t87 & Rajasthan 6                    & X                              &                                &                                &                                & X                              & 65                            \\\\\n",
       "\t91 & Salem Unit 2                   & X                              &                                & X                              &                                &                                & 97                            \\\\\n",
       "\t92 & Smolensk 2                     & X                              &                                & X                              &                                &                                & 66                            \\\\\n",
       "\t102 & Watts Bar Unit 2               & X                              &                                & X                              &                                &                                & 55                            \\\\\n",
       "\\end{tabular}\n"
      ],
      "text/markdown": [
       "\n",
       "| <!--/--> | onFocus | FLR | SSPI | Scram | Scrams | FRI | Idx | \n",
       "|---|---|---|---|---|---|---|---|---|---|---|---|---|---|---|---|---|---|---|---|---|\n",
       "| 4 | ANO Unit 2                     | X                              | X                              |                                |                                |                                | 73                             | \n",
       "| 6 | Atucha 2                       | X                              |                                | X                              |                                | X                              | 60                             | \n",
       "| 17 | Chasnupp 3                     |                                |                                | X                              | X                              |                                | 72                             | \n",
       "| 18 | Chasnupp 4                     |                                |                                | X                              | X                              |                                | 92                             | \n",
       "| 32 | Dungeness B 1                  | X                              |                                |                                |                                | X                              | 71                             | \n",
       "| 33 | Dungeness B 2                  | X                              |                                |                                |                                | X                              | 69                             | \n",
       "| 34 | Fermi Unit 2                   | X                              |                                | X                              |                                |                                | 69                             | \n",
       "| 35 | Fessenheim 2                   | X                              |                                | X                              |                                |                                | 55                             | \n",
       "| 37 | Flamanville 1                  | X                              |                                | X                              |                                |                                | 51                             | \n",
       "| 39 | Forsmark 3                     | X                              |                                | X                              |                                | X                              | 52                             | \n",
       "| 41 | Grand Gulf Unit 1              | X                              | X                              |                                |                                |                                | 58                             | \n",
       "| 60 | Kudankulam 1                   | X                              | X                              | X                              |                                |                                | 56                             | \n",
       "| 68 | Narora 1                       |                                |                                | X                              |                                | X                              | 77                             | \n",
       "| 69 | Narora 2                       |                                |                                | X                              |                                | X                              | 66                             | \n",
       "| 74 | Olkiluoto 2                    |                                |                                | X                              |                                | X                              | 82                             | \n",
       "| 84 | Rajasthan 2                    | X                              |                                | X                              | X                              | X                              | 55                             | \n",
       "| 86 | Rajasthan 4                    |                                |                                | X                              |                                | X                              | 83                             | \n",
       "| 87 | Rajasthan 6                    | X                              |                                |                                |                                | X                              | 65                             | \n",
       "| 91 | Salem Unit 2                   | X                              |                                | X                              |                                |                                | 97                             | \n",
       "| 92 | Smolensk 2                     | X                              |                                | X                              |                                |                                | 66                             | \n",
       "| 102 | Watts Bar Unit 2               | X                              |                                | X                              |                                |                                | 55                             | \n",
       "\n",
       "\n"
      ],
      "text/plain": [
       "    onFocus                        FLR SSPI Scram Scrams FRI Idx\n",
       "4   ANO Unit 2                     X   X                     73 \n",
       "6   Atucha 2                       X        X            X   60 \n",
       "17  Chasnupp 3                              X     X          72 \n",
       "18  Chasnupp 4                              X     X          92 \n",
       "32  Dungeness B 1                  X                     X   71 \n",
       "33  Dungeness B 2                  X                     X   69 \n",
       "34  Fermi Unit 2                   X        X                69 \n",
       "35  Fessenheim 2                   X        X                55 \n",
       "37  Flamanville 1                  X        X                51 \n",
       "39  Forsmark 3                     X        X            X   52 \n",
       "41  Grand Gulf Unit 1              X   X                     58 \n",
       "60  Kudankulam 1                   X   X    X                56 \n",
       "68  Narora 1                                X            X   77 \n",
       "69  Narora 2                                X            X   66 \n",
       "74  Olkiluoto 2                             X            X   82 \n",
       "84  Rajasthan 2                    X        X     X      X   55 \n",
       "86  Rajasthan 4                             X            X   83 \n",
       "87  Rajasthan 6                    X                     X   65 \n",
       "91  Salem Unit 2                   X        X                97 \n",
       "92  Smolensk 2                     X        X                66 \n",
       "102 Watts Bar Unit 2               X        X                55 "
      ]
     },
     "metadata": {},
     "output_type": "display_data"
    },
    {
     "data": {
      "text/html": [
       "21"
      ],
      "text/latex": [
       "21"
      ],
      "text/markdown": [
       "21"
      ],
      "text/plain": [
       "[1] 21"
      ]
     },
     "metadata": {},
     "output_type": "display_data"
    }
   ],
   "source": [
    "df2 <- data.frame()\n",
    "for (n in 1:length(df[,1])){\n",
    "    if (length(which(df[n,]=='X'))>=2)\n",
    "        df2 <- rbind(df2,df[n,])\n",
    "        }\n",
    "df2\n",
    "write.csv(df2,'onFocusShort.csv')\n",
    "length(df2[,1])"
   ]
  },
  {
   "cell_type": "markdown",
   "metadata": {},
   "source": [
    "The list of units which has *more than two* issues listed above - candidates for *units on focus*"
   ]
  },
  {
   "cell_type": "code",
   "execution_count": 21,
   "metadata": {},
   "outputs": [
    {
     "data": {
      "text/html": [
       "<table>\n",
       "<thead><tr><th></th><th scope=col>onFocus</th><th scope=col>FLR</th><th scope=col>SSPI</th><th scope=col>Scram</th><th scope=col>Scrams</th><th scope=col>FRI</th><th scope=col>Idx</th></tr></thead>\n",
       "<tbody>\n",
       "\t<tr><th scope=row>6</th><td>Atucha 2                      </td><td>X                             </td><td>                              </td><td>X                             </td><td>                              </td><td>X                             </td><td>60                            </td></tr>\n",
       "\t<tr><th scope=row>39</th><td>Forsmark 3                    </td><td>X                             </td><td>                              </td><td>X                             </td><td>                              </td><td>X                             </td><td>52                            </td></tr>\n",
       "\t<tr><th scope=row>60</th><td>Kudankulam 1                  </td><td>X                             </td><td>X                             </td><td>X                             </td><td>                              </td><td>                              </td><td>56                            </td></tr>\n",
       "\t<tr><th scope=row>84</th><td>Rajasthan 2                   </td><td>X                             </td><td>                              </td><td>X                             </td><td>X                             </td><td>X                             </td><td>55                            </td></tr>\n",
       "</tbody>\n",
       "</table>\n"
      ],
      "text/latex": [
       "\\begin{tabular}{r|lllllll}\n",
       "  & onFocus & FLR & SSPI & Scram & Scrams & FRI & Idx\\\\\n",
       "\\hline\n",
       "\t6 & Atucha 2                       & X                              &                                & X                              &                                & X                              & 60                            \\\\\n",
       "\t39 & Forsmark 3                     & X                              &                                & X                              &                                & X                              & 52                            \\\\\n",
       "\t60 & Kudankulam 1                   & X                              & X                              & X                              &                                &                                & 56                            \\\\\n",
       "\t84 & Rajasthan 2                    & X                              &                                & X                              & X                              & X                              & 55                            \\\\\n",
       "\\end{tabular}\n"
      ],
      "text/markdown": [
       "\n",
       "| <!--/--> | onFocus | FLR | SSPI | Scram | Scrams | FRI | Idx | \n",
       "|---|---|---|---|\n",
       "| 6 | Atucha 2                       | X                              |                                | X                              |                                | X                              | 60                             | \n",
       "| 39 | Forsmark 3                     | X                              |                                | X                              |                                | X                              | 52                             | \n",
       "| 60 | Kudankulam 1                   | X                              | X                              | X                              |                                |                                | 56                             | \n",
       "| 84 | Rajasthan 2                    | X                              |                                | X                              | X                              | X                              | 55                             | \n",
       "\n",
       "\n"
      ],
      "text/plain": [
       "   onFocus                        FLR SSPI Scram Scrams FRI Idx\n",
       "6  Atucha 2                       X        X            X   60 \n",
       "39 Forsmark 3                     X        X            X   52 \n",
       "60 Kudankulam 1                   X   X    X                56 \n",
       "84 Rajasthan 2                    X        X     X      X   55 "
      ]
     },
     "metadata": {},
     "output_type": "display_data"
    },
    {
     "data": {
      "text/html": [
       "4"
      ],
      "text/latex": [
       "4"
      ],
      "text/markdown": [
       "4"
      ],
      "text/plain": [
       "[1] 4"
      ]
     },
     "metadata": {},
     "output_type": "display_data"
    }
   ],
   "source": [
    "df3 <- data.frame()\n",
    "for (n in 1:length(df[,1])){\n",
    "    if (length(which(df[n,]=='X'))>=3)\n",
    "        df3 <- rbind(df3,df[n,])\n",
    "        }\n",
    "df3\n",
    "write.csv(df3,'onFocusVeryShort.csv')\n",
    "length(df3[,1])"
   ]
  },
  {
   "cell_type": "markdown",
   "metadata": {},
   "source": [
    "TODOs:\n",
    "- check and print the related comments (if any);\n",
    "- search the related events in the OE DB, sorting them by severity; using the Machine Learning approach will be useful;\n",
    "- provide reccomendations for PR team\n",
    "- add some text summary\n",
    "- remove code"
   ]
  },
  {
   "cell_type": "markdown",
   "metadata": {
    "collapsed": true
   },
   "source": [
    "Conclusions:\n",
    "- the existing PI Indexing system is slightly out-of-date and can be limitedly used even for initial investigation; The Index 4 needs some improvement;\n",
    "- the existing WANO PC approach in selecting 'plants which need more attention' might be used for RC level, but for the whole WANO it represents about a quarter out of all units/plants which does not reflect the real picture;\n",
    "- for WANO level the list of 'units which has more than one safety and reliability issues' might be used to define unit needs more attention;\n",
    "- for WANO level the list of 'units which has more than two safety and reliability issues' might be used to define unit to be on focus;\n",
    "- some units which have not good chemistry and industrial safety were not included into the lists above - probably the assesment criteria should be reevaluated;\n",
    "- the last two tables with the assesment criteria might be included into the PI Quarter Report"
   ]
  },
  {
   "cell_type": "code",
   "execution_count": null,
   "metadata": {
    "collapsed": true
   },
   "outputs": [],
   "source": []
  }
 ],
 "metadata": {
  "kernelspec": {
   "display_name": "R",
   "language": "R",
   "name": "ir"
  },
  "language_info": {
   "codemirror_mode": "r",
   "file_extension": ".r",
   "mimetype": "text/x-r-source",
   "name": "R",
   "pygments_lexer": "r",
   "version": "3.4.3"
  }
 },
 "nbformat": 4,
 "nbformat_minor": 2
}
