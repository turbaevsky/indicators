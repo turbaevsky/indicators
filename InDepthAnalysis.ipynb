{
 "cells": [
  {
   "cell_type": "markdown",
   "metadata": {},
   "source": [
    "# Quarter in-depth PI analysis\n",
    "\n",
    "This report has been based on modified WANO PC approach. The purpose of this report is defining the units which need more support."
   ]
  },
  {
   "cell_type": "code",
   "execution_count": 63,
   "metadata": {},
   "outputs": [],
   "source": [
    "#install.packages('logging', repos='http://cran.us.r-project.org')"
   ]
  },
  {
   "cell_type": "markdown",
   "metadata": {},
   "source": [
    "Analysing quarter"
   ]
  },
  {
   "cell_type": "code",
   "execution_count": 64,
   "metadata": {
    "collapsed": true
   },
   "outputs": [],
   "source": [
    "EndDate <- 201709"
   ]
  },
  {
   "cell_type": "markdown",
   "metadata": {},
   "source": [
    "Read all the necessary data and function"
   ]
  },
  {
   "cell_type": "code",
   "execution_count": 65,
   "metadata": {},
   "outputs": [],
   "source": [
    "source('shiny/data.r')"
   ]
  },
  {
   "cell_type": "markdown",
   "metadata": {},
   "source": [
    "Criteria for FLR: the average two-year indicator is in the bottom decile in worlwide comparison\n",
    "\n",
    "SP1, SP2 and SP5 - indicator is safety related.\n",
    "\n",
    "Criteria for US7: \n",
    "- first filter: at least one scram occured during the last monitored quarter\n",
    "- second filter: three or more scrams occured in the last 12 months\n",
    "\n",
    "Criteria for FRI: calculated value is above the Defect Fuel Reference"
   ]
  },
  {
   "cell_type": "code",
   "execution_count": 66,
   "metadata": {
    "collapsed": true
   },
   "outputs": [],
   "source": [
    "#tail(r)"
   ]
  },
  {
   "cell_type": "markdown",
   "metadata": {},
   "source": [
    "FLR: the average two-year indicator is in the bottom decile in worlwide comparison"
   ]
  },
  {
   "cell_type": "code",
   "execution_count": 67,
   "metadata": {},
   "outputs": [],
   "source": [
    "flr_lim <- quantile(subset(r, IndicatorCode == 'FLR  ' & PeriodEndYrMn == EndDate & NumOfMonths == 24 & NonQualCode == ' ',ResultsValue)[[1]],probs=0.9)[[1]]\n",
    "flr <- subset(r, IndicatorCode == 'FLR  ' & PeriodEndYrMn == EndDate & NumOfMonths == 24 & NonQualCode == ' ' & ResultsValue>=flr_lim,LocId)[[1]]\n",
    "flr <- nameByID(flr)"
   ]
  },
  {
   "cell_type": "markdown",
   "metadata": {},
   "source": [
    "Units which is above the safety system criteria (0.02 for SP1-2, 0.025 for SP5) for 3-yrs data window"
   ]
  },
  {
   "cell_type": "code",
   "execution_count": 68,
   "metadata": {},
   "outputs": [],
   "source": [
    "sp12 <- nameByID(subset(r, IndicatorCode %in% c('SP1  ','SP2  ') & PeriodEndYrMn == EndDate & NumOfMonths == 36 & NonQualCode == ' ' & ResultsValue >=0.02,LocId)[[1]])\n",
    "sp5 <- nameByID(subset(r, IndicatorCode == 'SP5  ' & PeriodEndYrMn == EndDate & NumOfMonths == 36 & NonQualCode == ' ' & ResultsValue >=0.025,LocId)[[1]])"
   ]
  },
  {
   "cell_type": "markdown",
   "metadata": {},
   "source": [
    "Units which has at least one scram occured during the last monitored quarter"
   ]
  },
  {
   "cell_type": "code",
   "execution_count": 69,
   "metadata": {},
   "outputs": [],
   "source": [
    "#tail(data)\n",
    "scram <-nameByID(unique(subset(data,YrMn %in% c(EndDate-2, EndDate-1 ,EndDate) & ElementCode %in% c('C1   ','C3   ') & ElementValue>0, SourceId))[[1]])"
   ]
  },
  {
   "cell_type": "markdown",
   "metadata": {},
   "source": [
    "Units which has three or more scrams for the last 12 months"
   ]
  },
  {
   "cell_type": "code",
   "execution_count": 70,
   "metadata": {},
   "outputs": [],
   "source": [
    "scrams3 <- nameByID(unique(subset(data,YrMn > (EndDate-100) & ElementCode %in% c('C1   ','C3   ') & ElementValue>=3, SourceId))[[1]])"
   ]
  },
  {
   "cell_type": "markdown",
   "metadata": {
    "collapsed": true
   },
   "source": [
    "FRI: calculated value is above the Defect Fuel Reference"
   ]
  },
  {
   "cell_type": "code",
   "execution_count": 71,
   "metadata": {},
   "outputs": [],
   "source": [
    "u <- uByType()\n",
    "fri2 <- nameByID(subset(r, IndicatorCode == 'FRI  ' & PeriodEndYrMn == EndDate & NumOfMonths == 3 & NonQualCode == ' ' & ResultsValue >=300 & LocId %in% u$rType[[2]],LocId)[[1]])\n",
    "fri45 <- nameByID(subset(r, IndicatorCode == 'FRI  ' & PeriodEndYrMn == EndDate & NumOfMonths == 3 & NonQualCode == ' ' & ResultsValue >=5e-4 & LocId %in% c(u$rType[[4]],u$rType[[5]]),LocId)[[1]])\n",
    "fri1 <- nameByID(subset(r, IndicatorCode == 'FRI  ' & PeriodEndYrMn == EndDate & NumOfMonths == 3 & NonQualCode == ' ' & ResultsValue >=1e-3 & LocId %in% u$rType[[1]],LocId)[[1]])\n",
    "fri3 <- nameByID(subset(r, IndicatorCode == 'FRI  ' & PeriodEndYrMn == EndDate & NumOfMonths == 3 & NonQualCode == ' ' & ResultsValue >=1e-3 & LocId %in% u$rType[[3]],LocId)[[1]])\n",
    "fri <- c(fri1,fri2,fri3,fri45)"
   ]
  },
  {
   "cell_type": "markdown",
   "metadata": {},
   "source": [
    "Note: FRI criteria for AGR and LWCGR are based on Index calculation"
   ]
  },
  {
   "cell_type": "markdown",
   "metadata": {},
   "source": [
    "The whole list of units which have some issues"
   ]
  },
  {
   "cell_type": "code",
   "execution_count": 72,
   "metadata": {},
   "outputs": [],
   "source": [
    "onFocus <- sort(unique(c(flr,sp12,sp5,scram,scrams3,fri)))"
   ]
  },
  {
   "cell_type": "code",
   "execution_count": 74,
   "metadata": {},
   "outputs": [
    {
     "data": {
      "text/html": [
       "<table>\n",
       "<thead><tr><th scope=col>onFocus</th><th scope=col>FLR</th><th scope=col>SSPI</th><th scope=col>Scram</th><th scope=col>Scrams</th><th scope=col>FRI</th></tr></thead>\n",
       "<tbody>\n",
       "\t<tr><td>ANO                           </td><td>                              </td><td>X                             </td><td>                              </td><td>                              </td><td>                              </td></tr>\n",
       "\t<tr><td>ANO Unit 2                    </td><td>X                             </td><td>X                             </td><td>                              </td><td>                              </td><td>                              </td></tr>\n",
       "\t<tr><td>Atucha 1                      </td><td>                              </td><td>                              </td><td>                              </td><td>X                             </td><td>X                             </td></tr>\n",
       "\t<tr><td>Atucha 2                      </td><td>X                             </td><td>                              </td><td>                              </td><td>                              </td><td>X                             </td></tr>\n",
       "\t<tr><td>Blayais 4                     </td><td>                              </td><td>                              </td><td>X                             </td><td>                              </td><td>                              </td></tr>\n",
       "\t<tr><td>Borssele 1                    </td><td>                              </td><td>                              </td><td>X                             </td><td>                              </td><td>                              </td></tr>\n",
       "\t<tr><td>Bruce 1                       </td><td>                              </td><td>                              </td><td>X                             </td><td>                              </td><td>                              </td></tr>\n",
       "\t<tr><td>Bruce 7                       </td><td>                              </td><td>X                             </td><td>                              </td><td>                              </td><td>                              </td></tr>\n",
       "\t<tr><td>Brunswick Unit 1              </td><td>                              </td><td>                              </td><td>                              </td><td>                              </td><td>X                             </td></tr>\n",
       "\t<tr><td>Bugey 2                       </td><td>                              </td><td>                              </td><td>X                             </td><td>                              </td><td>                              </td></tr>\n",
       "\t<tr><td>Bushehr 1                     </td><td>X                             </td><td>                              </td><td>                              </td><td>                              </td><td>                              </td></tr>\n",
       "\t<tr><td>Cattenom 1                    </td><td>X                             </td><td>                              </td><td>                              </td><td>                              </td><td>                              </td></tr>\n",
       "\t<tr><td>Cattenom 4                    </td><td>                              </td><td>                              </td><td>                              </td><td>X                             </td><td>                              </td></tr>\n",
       "\t<tr><td>Chasnupp 1                    </td><td>                              </td><td>                              </td><td>X                             </td><td>                              </td><td>                              </td></tr>\n",
       "\t<tr><td>Chasnupp 2                    </td><td>                              </td><td>                              </td><td>X                             </td><td>                              </td><td>                              </td></tr>\n",
       "\t<tr><td>Chasnupp 3                    </td><td>                              </td><td>                              </td><td>X                             </td><td>X                             </td><td>                              </td></tr>\n",
       "\t<tr><td>Chinon B1                     </td><td>                              </td><td>                              </td><td>X                             </td><td>                              </td><td>                              </td></tr>\n",
       "\t<tr><td>Chinon B2                     </td><td>X                             </td><td>                              </td><td>                              </td><td>                              </td><td>                              </td></tr>\n",
       "\t<tr><td>Chooz B1                      </td><td>                              </td><td>                              </td><td>X                             </td><td>                              </td><td>                              </td></tr>\n",
       "\t<tr><td>Civaux 2                      </td><td>                              </td><td>                              </td><td>                              </td><td>                              </td><td>X                             </td></tr>\n",
       "\t<tr><td>Cofrentes 1                   </td><td>                              </td><td>                              </td><td>                              </td><td>                              </td><td>X                             </td></tr>\n",
       "\t<tr><td>Columbia Unit 2               </td><td>                              </td><td>                              </td><td>X                             </td><td>                              </td><td>                              </td></tr>\n",
       "\t<tr><td>Comanche Peak Unit 2          </td><td>X                             </td><td>                              </td><td>X                             </td><td>                              </td><td>                              </td></tr>\n",
       "\t<tr><td>Dampierre 2                   </td><td>X                             </td><td>                              </td><td>                              </td><td>                              </td><td>                              </td></tr>\n",
       "\t<tr><td>Diablo Canyon Unit 2          </td><td>                              </td><td>X                             </td><td>                              </td><td>                              </td><td>                              </td></tr>\n",
       "\t<tr><td>Doel 1                        </td><td>X                             </td><td>                              </td><td>                              </td><td>                              </td><td>                              </td></tr>\n",
       "\t<tr><td>Doel 3                        </td><td>X                             </td><td>                              </td><td>                              </td><td>                              </td><td>                              </td></tr>\n",
       "\t<tr><td>Doel 4                        </td><td>                              </td><td>                              </td><td>X                             </td><td>                              </td><td>                              </td></tr>\n",
       "\t<tr><td>Dukovany 1                    </td><td>                              </td><td>X                             </td><td>                              </td><td>                              </td><td>                              </td></tr>\n",
       "\t<tr><td>Dukovany 2                    </td><td>X                             </td><td>X                             </td><td>                              </td><td>                              </td><td>                              </td></tr>\n",
       "\t<tr><td>...</td><td>...</td><td>...</td><td>...</td><td>...</td><td>...</td></tr>\n",
       "\t<tr><td>Pickering 4                   </td><td>X                             </td><td>                              </td><td>                              </td><td>                              </td><td>X                             </td></tr>\n",
       "\t<tr><td>Pickering 6                   </td><td>                              </td><td>                              </td><td>                              </td><td>                              </td><td>X                             </td></tr>\n",
       "\t<tr><td>Pickering 8                   </td><td>                              </td><td>                              </td><td>                              </td><td>                              </td><td>X                             </td></tr>\n",
       "\t<tr><td>Point Lepreau 1               </td><td>                              </td><td>                              </td><td>X                             </td><td>                              </td><td>                              </td></tr>\n",
       "\t<tr><td>Prairie Island Unit 2         </td><td>X                             </td><td>                              </td><td>                              </td><td>                              </td><td>                              </td></tr>\n",
       "\t<tr><td>Rajasthan 2                   </td><td>X                             </td><td>                              </td><td>X                             </td><td>X                             </td><td>X                             </td></tr>\n",
       "\t<tr><td>Rajasthan 3                   </td><td>                              </td><td>                              </td><td>                              </td><td>                              </td><td>X                             </td></tr>\n",
       "\t<tr><td>Rajasthan 4                   </td><td>                              </td><td>                              </td><td>                              </td><td>                              </td><td>X                             </td></tr>\n",
       "\t<tr><td>Rajasthan 5                   </td><td>                              </td><td>                              </td><td>                              </td><td>                              </td><td>X                             </td></tr>\n",
       "\t<tr><td>Rajasthan 6                   </td><td>X                             </td><td>                              </td><td>                              </td><td>                              </td><td>X                             </td></tr>\n",
       "\t<tr><td>River Bend Unit 1             </td><td>X                             </td><td>                              </td><td>X                             </td><td>                              </td><td>X                             </td></tr>\n",
       "\t<tr><td>Rovno 2                       </td><td>                              </td><td>                              </td><td>                              </td><td>                              </td><td>X                             </td></tr>\n",
       "\t<tr><td>Rovno 3                       </td><td>X                             </td><td>                              </td><td>                              </td><td>                              </td><td>                              </td></tr>\n",
       "\t<tr><td>Rovno 4                       </td><td>                              </td><td>                              </td><td>X                             </td><td>                              </td><td>                              </td></tr>\n",
       "\t<tr><td>Saint-Alban 2                 </td><td>                              </td><td>                              </td><td>X                             </td><td>                              </td><td>                              </td></tr>\n",
       "\t<tr><td>Salem Unit 2                  </td><td>X                             </td><td>                              </td><td>                              </td><td>                              </td><td>                              </td></tr>\n",
       "\t<tr><td>Sequoyah Unit 1               </td><td>X                             </td><td>                              </td><td>                              </td><td>                              </td><td>                              </td></tr>\n",
       "\t<tr><td>Shin-Wolsong 1                </td><td>                              </td><td>X                             </td><td>                              </td><td>                              </td><td>                              </td></tr>\n",
       "\t<tr><td>Smolensk 2                    </td><td>X                             </td><td>                              </td><td>                              </td><td>                              </td><td>                              </td></tr>\n",
       "\t<tr><td>Smolensk 3                    </td><td>                              </td><td>                              </td><td>                              </td><td>                              </td><td>X                             </td></tr>\n",
       "\t<tr><td>Summer Unit 1                 </td><td>                              </td><td>                              </td><td>X                             </td><td>                              </td><td>                              </td></tr>\n",
       "\t<tr><td>Temelin 1                     </td><td>                              </td><td>                              </td><td>                              </td><td>                              </td><td>X                             </td></tr>\n",
       "\t<tr><td>Temelin 2                     </td><td>X                             </td><td>                              </td><td>                              </td><td>                              </td><td>                              </td></tr>\n",
       "\t<tr><td>Tihange 1                     </td><td>X                             </td><td>                              </td><td>                              </td><td>                              </td><td>                              </td></tr>\n",
       "\t<tr><td>Tihange 2                     </td><td>X                             </td><td>                              </td><td>                              </td><td>                              </td><td>                              </td></tr>\n",
       "\t<tr><td>Turkey Point Unit 4           </td><td>                              </td><td>                              </td><td>X                             </td><td>                              </td><td>                              </td></tr>\n",
       "\t<tr><td>Vaygach 1                     </td><td>                              </td><td>                              </td><td>X                             </td><td>                              </td><td>                              </td></tr>\n",
       "\t<tr><td>Waterford Unit 3              </td><td>                              </td><td>                              </td><td>X                             </td><td>                              </td><td>                              </td></tr>\n",
       "\t<tr><td>Watts Bar                     </td><td>                              </td><td>X                             </td><td>                              </td><td>                              </td><td>                              </td></tr>\n",
       "\t<tr><td>Wolsong 1                     </td><td>X                             </td><td>                              </td><td>                              </td><td>                              </td><td>                              </td></tr>\n",
       "</tbody>\n",
       "</table>\n"
      ],
      "text/latex": [
       "\\begin{tabular}{r|llllll}\n",
       " onFocus & FLR & SSPI & Scram & Scrams & FRI\\\\\n",
       "\\hline\n",
       "\t ANO                            &                                & X                              &                                &                                &                               \\\\\n",
       "\t ANO Unit 2                     & X                              & X                              &                                &                                &                               \\\\\n",
       "\t Atucha 1                       &                                &                                &                                & X                              & X                             \\\\\n",
       "\t Atucha 2                       & X                              &                                &                                &                                & X                             \\\\\n",
       "\t Blayais 4                      &                                &                                & X                              &                                &                               \\\\\n",
       "\t Borssele 1                     &                                &                                & X                              &                                &                               \\\\\n",
       "\t Bruce 1                        &                                &                                & X                              &                                &                               \\\\\n",
       "\t Bruce 7                        &                                & X                              &                                &                                &                               \\\\\n",
       "\t Brunswick Unit 1               &                                &                                &                                &                                & X                             \\\\\n",
       "\t Bugey 2                        &                                &                                & X                              &                                &                               \\\\\n",
       "\t Bushehr 1                      & X                              &                                &                                &                                &                               \\\\\n",
       "\t Cattenom 1                     & X                              &                                &                                &                                &                               \\\\\n",
       "\t Cattenom 4                     &                                &                                &                                & X                              &                               \\\\\n",
       "\t Chasnupp 1                     &                                &                                & X                              &                                &                               \\\\\n",
       "\t Chasnupp 2                     &                                &                                & X                              &                                &                               \\\\\n",
       "\t Chasnupp 3                     &                                &                                & X                              & X                              &                               \\\\\n",
       "\t Chinon B1                      &                                &                                & X                              &                                &                               \\\\\n",
       "\t Chinon B2                      & X                              &                                &                                &                                &                               \\\\\n",
       "\t Chooz B1                       &                                &                                & X                              &                                &                               \\\\\n",
       "\t Civaux 2                       &                                &                                &                                &                                & X                             \\\\\n",
       "\t Cofrentes 1                    &                                &                                &                                &                                & X                             \\\\\n",
       "\t Columbia Unit 2                &                                &                                & X                              &                                &                               \\\\\n",
       "\t Comanche Peak Unit 2           & X                              &                                & X                              &                                &                               \\\\\n",
       "\t Dampierre 2                    & X                              &                                &                                &                                &                               \\\\\n",
       "\t Diablo Canyon Unit 2           &                                & X                              &                                &                                &                               \\\\\n",
       "\t Doel 1                         & X                              &                                &                                &                                &                               \\\\\n",
       "\t Doel 3                         & X                              &                                &                                &                                &                               \\\\\n",
       "\t Doel 4                         &                                &                                & X                              &                                &                               \\\\\n",
       "\t Dukovany 1                     &                                & X                              &                                &                                &                               \\\\\n",
       "\t Dukovany 2                     & X                              & X                              &                                &                                &                               \\\\\n",
       "\t ... & ... & ... & ... & ... & ...\\\\\n",
       "\t Pickering 4                    & X                              &                                &                                &                                & X                             \\\\\n",
       "\t Pickering 6                    &                                &                                &                                &                                & X                             \\\\\n",
       "\t Pickering 8                    &                                &                                &                                &                                & X                             \\\\\n",
       "\t Point Lepreau 1                &                                &                                & X                              &                                &                               \\\\\n",
       "\t Prairie Island Unit 2          & X                              &                                &                                &                                &                               \\\\\n",
       "\t Rajasthan 2                    & X                              &                                & X                              & X                              & X                             \\\\\n",
       "\t Rajasthan 3                    &                                &                                &                                &                                & X                             \\\\\n",
       "\t Rajasthan 4                    &                                &                                &                                &                                & X                             \\\\\n",
       "\t Rajasthan 5                    &                                &                                &                                &                                & X                             \\\\\n",
       "\t Rajasthan 6                    & X                              &                                &                                &                                & X                             \\\\\n",
       "\t River Bend Unit 1              & X                              &                                & X                              &                                & X                             \\\\\n",
       "\t Rovno 2                        &                                &                                &                                &                                & X                             \\\\\n",
       "\t Rovno 3                        & X                              &                                &                                &                                &                               \\\\\n",
       "\t Rovno 4                        &                                &                                & X                              &                                &                               \\\\\n",
       "\t Saint-Alban 2                  &                                &                                & X                              &                                &                               \\\\\n",
       "\t Salem Unit 2                   & X                              &                                &                                &                                &                               \\\\\n",
       "\t Sequoyah Unit 1                & X                              &                                &                                &                                &                               \\\\\n",
       "\t Shin-Wolsong 1                 &                                & X                              &                                &                                &                               \\\\\n",
       "\t Smolensk 2                     & X                              &                                &                                &                                &                               \\\\\n",
       "\t Smolensk 3                     &                                &                                &                                &                                & X                             \\\\\n",
       "\t Summer Unit 1                  &                                &                                & X                              &                                &                               \\\\\n",
       "\t Temelin 1                      &                                &                                &                                &                                & X                             \\\\\n",
       "\t Temelin 2                      & X                              &                                &                                &                                &                               \\\\\n",
       "\t Tihange 1                      & X                              &                                &                                &                                &                               \\\\\n",
       "\t Tihange 2                      & X                              &                                &                                &                                &                               \\\\\n",
       "\t Turkey Point Unit 4            &                                &                                & X                              &                                &                               \\\\\n",
       "\t Vaygach 1                      &                                &                                & X                              &                                &                               \\\\\n",
       "\t Waterford Unit 3               &                                &                                & X                              &                                &                               \\\\\n",
       "\t Watts Bar                      &                                & X                              &                                &                                &                               \\\\\n",
       "\t Wolsong 1                      & X                              &                                &                                &                                &                               \\\\\n",
       "\\end{tabular}\n"
      ],
      "text/markdown": [
       "\n",
       "onFocus | FLR | SSPI | Scram | Scrams | FRI | \n",
       "|---|---|---|---|---|---|---|---|---|---|---|---|---|---|---|---|---|---|---|---|---|---|---|---|---|---|---|---|---|---|---|---|---|---|---|---|---|---|---|---|---|---|---|---|---|---|---|---|---|---|---|---|---|---|---|---|---|---|---|---|---|\n",
       "| ANO                            |                                | X                              |                                |                                |                                | \n",
       "| ANO Unit 2                     | X                              | X                              |                                |                                |                                | \n",
       "| Atucha 1                       |                                |                                |                                | X                              | X                              | \n",
       "| Atucha 2                       | X                              |                                |                                |                                | X                              | \n",
       "| Blayais 4                      |                                |                                | X                              |                                |                                | \n",
       "| Borssele 1                     |                                |                                | X                              |                                |                                | \n",
       "| Bruce 1                        |                                |                                | X                              |                                |                                | \n",
       "| Bruce 7                        |                                | X                              |                                |                                |                                | \n",
       "| Brunswick Unit 1               |                                |                                |                                |                                | X                              | \n",
       "| Bugey 2                        |                                |                                | X                              |                                |                                | \n",
       "| Bushehr 1                      | X                              |                                |                                |                                |                                | \n",
       "| Cattenom 1                     | X                              |                                |                                |                                |                                | \n",
       "| Cattenom 4                     |                                |                                |                                | X                              |                                | \n",
       "| Chasnupp 1                     |                                |                                | X                              |                                |                                | \n",
       "| Chasnupp 2                     |                                |                                | X                              |                                |                                | \n",
       "| Chasnupp 3                     |                                |                                | X                              | X                              |                                | \n",
       "| Chinon B1                      |                                |                                | X                              |                                |                                | \n",
       "| Chinon B2                      | X                              |                                |                                |                                |                                | \n",
       "| Chooz B1                       |                                |                                | X                              |                                |                                | \n",
       "| Civaux 2                       |                                |                                |                                |                                | X                              | \n",
       "| Cofrentes 1                    |                                |                                |                                |                                | X                              | \n",
       "| Columbia Unit 2                |                                |                                | X                              |                                |                                | \n",
       "| Comanche Peak Unit 2           | X                              |                                | X                              |                                |                                | \n",
       "| Dampierre 2                    | X                              |                                |                                |                                |                                | \n",
       "| Diablo Canyon Unit 2           |                                | X                              |                                |                                |                                | \n",
       "| Doel 1                         | X                              |                                |                                |                                |                                | \n",
       "| Doel 3                         | X                              |                                |                                |                                |                                | \n",
       "| Doel 4                         |                                |                                | X                              |                                |                                | \n",
       "| Dukovany 1                     |                                | X                              |                                |                                |                                | \n",
       "| Dukovany 2                     | X                              | X                              |                                |                                |                                | \n",
       "| ... | ... | ... | ... | ... | ... | \n",
       "| Pickering 4                    | X                              |                                |                                |                                | X                              | \n",
       "| Pickering 6                    |                                |                                |                                |                                | X                              | \n",
       "| Pickering 8                    |                                |                                |                                |                                | X                              | \n",
       "| Point Lepreau 1                |                                |                                | X                              |                                |                                | \n",
       "| Prairie Island Unit 2          | X                              |                                |                                |                                |                                | \n",
       "| Rajasthan 2                    | X                              |                                | X                              | X                              | X                              | \n",
       "| Rajasthan 3                    |                                |                                |                                |                                | X                              | \n",
       "| Rajasthan 4                    |                                |                                |                                |                                | X                              | \n",
       "| Rajasthan 5                    |                                |                                |                                |                                | X                              | \n",
       "| Rajasthan 6                    | X                              |                                |                                |                                | X                              | \n",
       "| River Bend Unit 1              | X                              |                                | X                              |                                | X                              | \n",
       "| Rovno 2                        |                                |                                |                                |                                | X                              | \n",
       "| Rovno 3                        | X                              |                                |                                |                                |                                | \n",
       "| Rovno 4                        |                                |                                | X                              |                                |                                | \n",
       "| Saint-Alban 2                  |                                |                                | X                              |                                |                                | \n",
       "| Salem Unit 2                   | X                              |                                |                                |                                |                                | \n",
       "| Sequoyah Unit 1                | X                              |                                |                                |                                |                                | \n",
       "| Shin-Wolsong 1                 |                                | X                              |                                |                                |                                | \n",
       "| Smolensk 2                     | X                              |                                |                                |                                |                                | \n",
       "| Smolensk 3                     |                                |                                |                                |                                | X                              | \n",
       "| Summer Unit 1                  |                                |                                | X                              |                                |                                | \n",
       "| Temelin 1                      |                                |                                |                                |                                | X                              | \n",
       "| Temelin 2                      | X                              |                                |                                |                                |                                | \n",
       "| Tihange 1                      | X                              |                                |                                |                                |                                | \n",
       "| Tihange 2                      | X                              |                                |                                |                                |                                | \n",
       "| Turkey Point Unit 4            |                                |                                | X                              |                                |                                | \n",
       "| Vaygach 1                      |                                |                                | X                              |                                |                                | \n",
       "| Waterford Unit 3               |                                |                                | X                              |                                |                                | \n",
       "| Watts Bar                      |                                | X                              |                                |                                |                                | \n",
       "| Wolsong 1                      | X                              |                                |                                |                                |                                | \n",
       "\n",
       "\n"
      ],
      "text/plain": [
       "    onFocus                        FLR SSPI Scram Scrams FRI\n",
       "1   ANO                                X                    \n",
       "2   ANO Unit 2                     X   X                    \n",
       "3   Atucha 1                                      X      X  \n",
       "4   Atucha 2                       X                     X  \n",
       "5   Blayais 4                               X               \n",
       "6   Borssele 1                              X               \n",
       "7   Bruce 1                                 X               \n",
       "8   Bruce 7                            X                    \n",
       "9   Brunswick Unit 1                                     X  \n",
       "10  Bugey 2                                 X               \n",
       "11  Bushehr 1                      X                        \n",
       "12  Cattenom 1                     X                        \n",
       "13  Cattenom 4                                    X         \n",
       "14  Chasnupp 1                              X               \n",
       "15  Chasnupp 2                              X               \n",
       "16  Chasnupp 3                              X     X         \n",
       "17  Chinon B1                               X               \n",
       "18  Chinon B2                      X                        \n",
       "19  Chooz B1                                X               \n",
       "20  Civaux 2                                             X  \n",
       "21  Cofrentes 1                                          X  \n",
       "22  Columbia Unit 2                         X               \n",
       "23  Comanche Peak Unit 2           X        X               \n",
       "24  Dampierre 2                    X                        \n",
       "25  Diablo Canyon Unit 2               X                    \n",
       "26  Doel 1                         X                        \n",
       "27  Doel 3                         X                        \n",
       "28  Doel 4                                  X               \n",
       "29  Dukovany 1                         X                    \n",
       "30  Dukovany 2                     X   X                    \n",
       "... ...                            ... ...  ...   ...    ...\n",
       "77  Pickering 4                    X                     X  \n",
       "78  Pickering 6                                          X  \n",
       "79  Pickering 8                                          X  \n",
       "80  Point Lepreau 1                         X               \n",
       "81  Prairie Island Unit 2          X                        \n",
       "82  Rajasthan 2                    X        X     X      X  \n",
       "83  Rajasthan 3                                          X  \n",
       "84  Rajasthan 4                                          X  \n",
       "85  Rajasthan 5                                          X  \n",
       "86  Rajasthan 6                    X                     X  \n",
       "87  River Bend Unit 1              X        X            X  \n",
       "88  Rovno 2                                              X  \n",
       "89  Rovno 3                        X                        \n",
       "90  Rovno 4                                 X               \n",
       "91  Saint-Alban 2                           X               \n",
       "92  Salem Unit 2                   X                        \n",
       "93  Sequoyah Unit 1                X                        \n",
       "94  Shin-Wolsong 1                     X                    \n",
       "95  Smolensk 2                     X                        \n",
       "96  Smolensk 3                                           X  \n",
       "97  Summer Unit 1                           X               \n",
       "98  Temelin 1                                            X  \n",
       "99  Temelin 2                      X                        \n",
       "100 Tihange 1                      X                        \n",
       "101 Tihange 2                      X                        \n",
       "102 Turkey Point Unit 4                     X               \n",
       "103 Vaygach 1                               X               \n",
       "104 Waterford Unit 3                        X               \n",
       "105 Watts Bar                          X                    \n",
       "106 Wolsong 1                      X                        "
      ]
     },
     "metadata": {},
     "output_type": "display_data"
    }
   ],
   "source": [
    "df <- data.frame(onFocus)\n",
    "flrCol <- c()\n",
    "sspiCol <-c()\n",
    "S <- c()\n",
    "S3 <- c()\n",
    "FRI <- c()\n",
    "\n",
    "for (i in df$onFocus){\n",
    "    if (i %in% flr) flrCol <- c(flrCol,'X') else flrCol <- c(flrCol,'')\n",
    "    if (i %in% c(sp12,sp5)) sspiCol <- c(sspiCol,'X') else sspiCol <- c(sspiCol,'')\n",
    "    if (i %in% scram) S <- c(S,'X') else S <- c(S,'')\n",
    "    if (i %in% scrams3) S3 <- c(S3,'X') else S3 <- c(S3,'')\n",
    "    if (i %in% fri) FRI <- c(FRI,'X') else FRI <- c(FRI,'')    \n",
    "}\n",
    "df$FLR <- flrCol\n",
    "df$SSPI <- sspiCol  \n",
    "df$Scram <- S\n",
    "df$Scrams <- S3\n",
    "df$FRI <- FRI\n",
    "df\n",
    "write.csv(df,'onFocus.csv')"
   ]
  },
  {
   "cell_type": "markdown",
   "metadata": {},
   "source": [
    "The next stages will be:\n",
    "- check and print the related comments (if any);\n",
    "- search the related events in the OE DB\n",
    "- provide reccomendations for PR team\n",
    "- add some text summary\n",
    "- remove code"
   ]
  },
  {
   "cell_type": "code",
   "execution_count": null,
   "metadata": {
    "collapsed": true
   },
   "outputs": [],
   "source": []
  }
 ],
 "metadata": {
  "kernelspec": {
   "display_name": "R",
   "language": "R",
   "name": "ir"
  },
  "language_info": {
   "codemirror_mode": "r",
   "file_extension": ".r",
   "mimetype": "text/x-r-source",
   "name": "R",
   "pygments_lexer": "r",
   "version": "3.4.2"
  }
 },
 "nbformat": 4,
 "nbformat_minor": 2
}
