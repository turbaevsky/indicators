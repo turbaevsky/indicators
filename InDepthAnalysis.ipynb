{
 "cells": [
  {
   "cell_type": "markdown",
   "metadata": {},
   "source": [
    "# Quarter in-depth PI analysis\n",
    "\n",
    "This report has been based on modified WANO PC approach. The purpose of this report is defining the units which need more support."
   ]
  },
  {
   "cell_type": "markdown",
   "metadata": {},
   "source": [
    "Analysing quarter"
   ]
  },
  {
   "cell_type": "code",
   "execution_count": 41,
   "metadata": {
    "collapsed": true
   },
   "outputs": [],
   "source": [
    "EndDate <- 201703"
   ]
  },
  {
   "cell_type": "markdown",
   "metadata": {},
   "source": [
    "Read all the necessary data and function"
   ]
  },
  {
   "cell_type": "code",
   "execution_count": 42,
   "metadata": {},
   "outputs": [],
   "source": [
    "source('shiny/data.r')"
   ]
  },
  {
   "cell_type": "markdown",
   "metadata": {},
   "source": [
    "Criteria for FLR: the average two-year indicator is in the bottom decile in worlwide comparison\n",
    "\n",
    "SP1, SP2 and SP5 - indicator is safety related.\n",
    "\n",
    "Criteria for US7: \n",
    "- first filter: at least one scram occured during the last monitored quarter\n",
    "- second filter: three or more scrams occured in the last 12 months\n",
    "\n",
    "Criteria for FRI: calculated value is above the Defect Fuel Reference"
   ]
  },
  {
   "cell_type": "code",
   "execution_count": 43,
   "metadata": {},
   "outputs": [],
   "source": [
    "#tail(r)"
   ]
  },
  {
   "cell_type": "markdown",
   "metadata": {},
   "source": [
    "FLR: the average two-year indicator is in the bottom decile in worlwide comparison"
   ]
  },
  {
   "cell_type": "code",
   "execution_count": 44,
   "metadata": {},
   "outputs": [
    {
     "data": {
      "text/html": [
       "<ol class=list-inline>\n",
       "\t<li><span style=white-space:pre-wrap>'ANO Unit 2                    '</span></li>\n",
       "\t<li><span style=white-space:pre-wrap>'Fermi Unit 2                  '</span></li>\n",
       "\t<li><span style=white-space:pre-wrap>'River Bend Unit 1             '</span></li>\n",
       "\t<li><span style=white-space:pre-wrap>'Cook Unit 1                   '</span></li>\n",
       "\t<li><span style=white-space:pre-wrap>'Prairie Island Unit 2         '</span></li>\n",
       "\t<li><span style=white-space:pre-wrap>'Salem Unit 2                  '</span></li>\n",
       "\t<li><span style=white-space:pre-wrap>'Grand Gulf Unit 1             '</span></li>\n",
       "\t<li><span style=white-space:pre-wrap>'Sequoyah Unit 1               '</span></li>\n",
       "\t<li><span style=white-space:pre-wrap>'Kakrapar 1                    '</span></li>\n",
       "\t<li><span style=white-space:pre-wrap>'Kakrapar 2                    '</span></li>\n",
       "\t<li><span style=white-space:pre-wrap>'Narora 2                      '</span></li>\n",
       "\t<li><span style=white-space:pre-wrap>'Rajasthan 2                   '</span></li>\n",
       "\t<li><span style=white-space:pre-wrap>'Kanupp 1                      '</span></li>\n",
       "\t<li><span style=white-space:pre-wrap>'Hanbit 3                      '</span></li>\n",
       "\t<li><span style=white-space:pre-wrap>'Dungeness B 4                 '</span></li>\n",
       "\t<li><span style=white-space:pre-wrap>'Hartlepool 1                  '</span></li>\n",
       "\t<li><span style=white-space:pre-wrap>'Doel 1                        '</span></li>\n",
       "\t<li><span style=white-space:pre-wrap>'Doel 3                        '</span></li>\n",
       "\t<li><span style=white-space:pre-wrap>'Tihange 2                     '</span></li>\n",
       "\t<li><span style=white-space:pre-wrap>'Tihange 1                     '</span></li>\n",
       "\t<li><span style=white-space:pre-wrap>'Point Lepreau 1               '</span></li>\n",
       "\t<li><span style=white-space:pre-wrap>'Darlington 3                  '</span></li>\n",
       "\t<li><span style=white-space:pre-wrap>'Pickering 4                   '</span></li>\n",
       "\t<li><span style=white-space:pre-wrap>'Chinon B2                     '</span></li>\n",
       "\t<li><span style=white-space:pre-wrap>'Flamanville 1                 '</span></li>\n",
       "\t<li><span style=white-space:pre-wrap>'Flamanville 2                 '</span></li>\n",
       "\t<li><span style=white-space:pre-wrap>'Oskarshamn 1                  '</span></li>\n",
       "\t<li><span style=white-space:pre-wrap>'Oskarshamn 3                  '</span></li>\n",
       "\t<li><span style=white-space:pre-wrap>'Forsmark 3                    '</span></li>\n",
       "\t<li><span style=white-space:pre-wrap>'Dukovany 2                    '</span></li>\n",
       "\t<li><span style=white-space:pre-wrap>'Dukovany 3                    '</span></li>\n",
       "\t<li><span style=white-space:pre-wrap>'Kalinin 3                     '</span></li>\n",
       "\t<li><span style=white-space:pre-wrap>'Rovno 3                       '</span></li>\n",
       "\t<li><span style=white-space:pre-wrap>'Smolensk 2                    '</span></li>\n",
       "\t<li><span style=white-space:pre-wrap>'Temelin 2                     '</span></li>\n",
       "\t<li><span style=white-space:pre-wrap>'Kudankulam 1                  '</span></li>\n",
       "\t<li><span style=white-space:pre-wrap>'Rajasthan 6                   '</span></li>\n",
       "\t<li><span style=white-space:pre-wrap>'Bushehr 1                     '</span></li>\n",
       "\t<li><span style=white-space:pre-wrap>'Kalinin 4                     '</span></li>\n",
       "</ol>\n"
      ],
      "text/latex": [
       "\\begin{enumerate*}\n",
       "\\item 'ANO Unit 2                    '\n",
       "\\item 'Fermi Unit 2                  '\n",
       "\\item 'River Bend Unit 1             '\n",
       "\\item 'Cook Unit 1                   '\n",
       "\\item 'Prairie Island Unit 2         '\n",
       "\\item 'Salem Unit 2                  '\n",
       "\\item 'Grand Gulf Unit 1             '\n",
       "\\item 'Sequoyah Unit 1               '\n",
       "\\item 'Kakrapar 1                    '\n",
       "\\item 'Kakrapar 2                    '\n",
       "\\item 'Narora 2                      '\n",
       "\\item 'Rajasthan 2                   '\n",
       "\\item 'Kanupp 1                      '\n",
       "\\item 'Hanbit 3                      '\n",
       "\\item 'Dungeness B 4                 '\n",
       "\\item 'Hartlepool 1                  '\n",
       "\\item 'Doel 1                        '\n",
       "\\item 'Doel 3                        '\n",
       "\\item 'Tihange 2                     '\n",
       "\\item 'Tihange 1                     '\n",
       "\\item 'Point Lepreau 1               '\n",
       "\\item 'Darlington 3                  '\n",
       "\\item 'Pickering 4                   '\n",
       "\\item 'Chinon B2                     '\n",
       "\\item 'Flamanville 1                 '\n",
       "\\item 'Flamanville 2                 '\n",
       "\\item 'Oskarshamn 1                  '\n",
       "\\item 'Oskarshamn 3                  '\n",
       "\\item 'Forsmark 3                    '\n",
       "\\item 'Dukovany 2                    '\n",
       "\\item 'Dukovany 3                    '\n",
       "\\item 'Kalinin 3                     '\n",
       "\\item 'Rovno 3                       '\n",
       "\\item 'Smolensk 2                    '\n",
       "\\item 'Temelin 2                     '\n",
       "\\item 'Kudankulam 1                  '\n",
       "\\item 'Rajasthan 6                   '\n",
       "\\item 'Bushehr 1                     '\n",
       "\\item 'Kalinin 4                     '\n",
       "\\end{enumerate*}\n"
      ],
      "text/markdown": [
       "1. <span style=white-space:pre-wrap>'ANO Unit 2                    '</span>\n",
       "2. <span style=white-space:pre-wrap>'Fermi Unit 2                  '</span>\n",
       "3. <span style=white-space:pre-wrap>'River Bend Unit 1             '</span>\n",
       "4. <span style=white-space:pre-wrap>'Cook Unit 1                   '</span>\n",
       "5. <span style=white-space:pre-wrap>'Prairie Island Unit 2         '</span>\n",
       "6. <span style=white-space:pre-wrap>'Salem Unit 2                  '</span>\n",
       "7. <span style=white-space:pre-wrap>'Grand Gulf Unit 1             '</span>\n",
       "8. <span style=white-space:pre-wrap>'Sequoyah Unit 1               '</span>\n",
       "9. <span style=white-space:pre-wrap>'Kakrapar 1                    '</span>\n",
       "10. <span style=white-space:pre-wrap>'Kakrapar 2                    '</span>\n",
       "11. <span style=white-space:pre-wrap>'Narora 2                      '</span>\n",
       "12. <span style=white-space:pre-wrap>'Rajasthan 2                   '</span>\n",
       "13. <span style=white-space:pre-wrap>'Kanupp 1                      '</span>\n",
       "14. <span style=white-space:pre-wrap>'Hanbit 3                      '</span>\n",
       "15. <span style=white-space:pre-wrap>'Dungeness B 4                 '</span>\n",
       "16. <span style=white-space:pre-wrap>'Hartlepool 1                  '</span>\n",
       "17. <span style=white-space:pre-wrap>'Doel 1                        '</span>\n",
       "18. <span style=white-space:pre-wrap>'Doel 3                        '</span>\n",
       "19. <span style=white-space:pre-wrap>'Tihange 2                     '</span>\n",
       "20. <span style=white-space:pre-wrap>'Tihange 1                     '</span>\n",
       "21. <span style=white-space:pre-wrap>'Point Lepreau 1               '</span>\n",
       "22. <span style=white-space:pre-wrap>'Darlington 3                  '</span>\n",
       "23. <span style=white-space:pre-wrap>'Pickering 4                   '</span>\n",
       "24. <span style=white-space:pre-wrap>'Chinon B2                     '</span>\n",
       "25. <span style=white-space:pre-wrap>'Flamanville 1                 '</span>\n",
       "26. <span style=white-space:pre-wrap>'Flamanville 2                 '</span>\n",
       "27. <span style=white-space:pre-wrap>'Oskarshamn 1                  '</span>\n",
       "28. <span style=white-space:pre-wrap>'Oskarshamn 3                  '</span>\n",
       "29. <span style=white-space:pre-wrap>'Forsmark 3                    '</span>\n",
       "30. <span style=white-space:pre-wrap>'Dukovany 2                    '</span>\n",
       "31. <span style=white-space:pre-wrap>'Dukovany 3                    '</span>\n",
       "32. <span style=white-space:pre-wrap>'Kalinin 3                     '</span>\n",
       "33. <span style=white-space:pre-wrap>'Rovno 3                       '</span>\n",
       "34. <span style=white-space:pre-wrap>'Smolensk 2                    '</span>\n",
       "35. <span style=white-space:pre-wrap>'Temelin 2                     '</span>\n",
       "36. <span style=white-space:pre-wrap>'Kudankulam 1                  '</span>\n",
       "37. <span style=white-space:pre-wrap>'Rajasthan 6                   '</span>\n",
       "38. <span style=white-space:pre-wrap>'Bushehr 1                     '</span>\n",
       "39. <span style=white-space:pre-wrap>'Kalinin 4                     '</span>\n",
       "\n",
       "\n"
      ],
      "text/plain": [
       " [1] \"ANO Unit 2                    \" \"Fermi Unit 2                  \"\n",
       " [3] \"River Bend Unit 1             \" \"Cook Unit 1                   \"\n",
       " [5] \"Prairie Island Unit 2         \" \"Salem Unit 2                  \"\n",
       " [7] \"Grand Gulf Unit 1             \" \"Sequoyah Unit 1               \"\n",
       " [9] \"Kakrapar 1                    \" \"Kakrapar 2                    \"\n",
       "[11] \"Narora 2                      \" \"Rajasthan 2                   \"\n",
       "[13] \"Kanupp 1                      \" \"Hanbit 3                      \"\n",
       "[15] \"Dungeness B 4                 \" \"Hartlepool 1                  \"\n",
       "[17] \"Doel 1                        \" \"Doel 3                        \"\n",
       "[19] \"Tihange 2                     \" \"Tihange 1                     \"\n",
       "[21] \"Point Lepreau 1               \" \"Darlington 3                  \"\n",
       "[23] \"Pickering 4                   \" \"Chinon B2                     \"\n",
       "[25] \"Flamanville 1                 \" \"Flamanville 2                 \"\n",
       "[27] \"Oskarshamn 1                  \" \"Oskarshamn 3                  \"\n",
       "[29] \"Forsmark 3                    \" \"Dukovany 2                    \"\n",
       "[31] \"Dukovany 3                    \" \"Kalinin 3                     \"\n",
       "[33] \"Rovno 3                       \" \"Smolensk 2                    \"\n",
       "[35] \"Temelin 2                     \" \"Kudankulam 1                  \"\n",
       "[37] \"Rajasthan 6                   \" \"Bushehr 1                     \"\n",
       "[39] \"Kalinin 4                     \""
      ]
     },
     "metadata": {},
     "output_type": "display_data"
    }
   ],
   "source": [
    "flr_lim <- quantile(subset(r, IndicatorCode == 'FLR  ' & PeriodEndYrMn == EndDate & NumOfMonths == 24 & NonQualCode == ' ',ResultsValue)[[1]],probs=0.9)[[1]]\n",
    "flr_out <- subset(r, IndicatorCode == 'FLR  ' & PeriodEndYrMn == EndDate & NumOfMonths == 24 & NonQualCode == ' ' & ResultsValue>=flr_lim,LocId)[[1]]\n",
    "flr_out <- nameByID(flr_out)\n",
    "flr_out"
   ]
  },
  {
   "cell_type": "markdown",
   "metadata": {},
   "source": [
    "at least one scram occured during the last monitored quarter"
   ]
  },
  {
   "cell_type": "code",
   "execution_count": 50,
   "metadata": {},
   "outputs": [
    {
     "data": {
      "text/html": [
       "<ol class=list-inline>\n",
       "\t<li><span style=white-space:pre-wrap>'LaSalle Unit 1                '</span></li>\n",
       "\t<li><span style=white-space:pre-wrap>'LaSalle Unit 2                '</span></li>\n",
       "\t<li><span style=white-space:pre-wrap>'Turkey Point Unit 3           '</span></li>\n",
       "\t<li><span style=white-space:pre-wrap>'Vogtle Unit 1                 '</span></li>\n",
       "\t<li><span style=white-space:pre-wrap>'River Bend Unit 1             '</span></li>\n",
       "\t<li><span style=white-space:pre-wrap>'Nine Mile Point Unit 1        '</span></li>\n",
       "\t<li><span style=white-space:pre-wrap>'Browns Ferry Unit 2           '</span></li>\n",
       "\t<li><span style=white-space:pre-wrap>'Watts Bar Unit 2              '</span></li>\n",
       "\t<li><span style=white-space:pre-wrap>'Madras 1                      '</span></li>\n",
       "\t<li><span style=white-space:pre-wrap>'Krsko 1                       '</span></li>\n",
       "\t<li><span style=white-space:pre-wrap>'Kori 4                        '</span></li>\n",
       "\t<li><span style=white-space:pre-wrap>'Hinkley Point B 2             '</span></li>\n",
       "\t<li><span style=white-space:pre-wrap>'Hunterston B 1                '</span></li>\n",
       "\t<li><span style=white-space:pre-wrap>'Doel 4                        '</span></li>\n",
       "\t<li><span style=white-space:pre-wrap>'Pickering 7                   '</span></li>\n",
       "\t<li><span style=white-space:pre-wrap>'Belleville 1                  '</span></li>\n",
       "\t<li><span style=white-space:pre-wrap>'Paluel 1                      '</span></li>\n",
       "\t<li><span style=white-space:pre-wrap>'Saint-Alban 2                 '</span></li>\n",
       "\t<li><span style=white-space:pre-wrap>'Atucha 1                      '</span></li>\n",
       "\t<li><span style=white-space:pre-wrap>'Maanshan 1                    '</span></li>\n",
       "\t<li><span style=white-space:pre-wrap>'Gundremmingen B               '</span></li>\n",
       "\t<li><span style=white-space:pre-wrap>'Gundremmingen C               '</span></li>\n",
       "\t<li><span style=white-space:pre-wrap>'Rovno 3                       '</span></li>\n",
       "\t<li><span style=white-space:pre-wrap>'Chasnupp 1                    '</span></li>\n",
       "\t<li><span style=white-space:pre-wrap>'Rajasthan 4                   '</span></li>\n",
       "\t<li><span style=white-space:pre-wrap>'Angra 2-1                     '</span></li>\n",
       "\t<li><span style=white-space:pre-wrap>'Kaiga 3                       '</span></li>\n",
       "\t<li><span style=white-space:pre-wrap>'Rajasthan 6                   '</span></li>\n",
       "\t<li><span style=white-space:pre-wrap>'Ningde 1                      '</span></li>\n",
       "\t<li>'Chasnupp 3'</li>\n",
       "</ol>\n"
      ],
      "text/latex": [
       "\\begin{enumerate*}\n",
       "\\item 'LaSalle Unit 1                '\n",
       "\\item 'LaSalle Unit 2                '\n",
       "\\item 'Turkey Point Unit 3           '\n",
       "\\item 'Vogtle Unit 1                 '\n",
       "\\item 'River Bend Unit 1             '\n",
       "\\item 'Nine Mile Point Unit 1        '\n",
       "\\item 'Browns Ferry Unit 2           '\n",
       "\\item 'Watts Bar Unit 2              '\n",
       "\\item 'Madras 1                      '\n",
       "\\item 'Krsko 1                       '\n",
       "\\item 'Kori 4                        '\n",
       "\\item 'Hinkley Point B 2             '\n",
       "\\item 'Hunterston B 1                '\n",
       "\\item 'Doel 4                        '\n",
       "\\item 'Pickering 7                   '\n",
       "\\item 'Belleville 1                  '\n",
       "\\item 'Paluel 1                      '\n",
       "\\item 'Saint-Alban 2                 '\n",
       "\\item 'Atucha 1                      '\n",
       "\\item 'Maanshan 1                    '\n",
       "\\item 'Gundremmingen B               '\n",
       "\\item 'Gundremmingen C               '\n",
       "\\item 'Rovno 3                       '\n",
       "\\item 'Chasnupp 1                    '\n",
       "\\item 'Rajasthan 4                   '\n",
       "\\item 'Angra 2-1                     '\n",
       "\\item 'Kaiga 3                       '\n",
       "\\item 'Rajasthan 6                   '\n",
       "\\item 'Ningde 1                      '\n",
       "\\item 'Chasnupp 3'\n",
       "\\end{enumerate*}\n"
      ],
      "text/markdown": [
       "1. <span style=white-space:pre-wrap>'LaSalle Unit 1                '</span>\n",
       "2. <span style=white-space:pre-wrap>'LaSalle Unit 2                '</span>\n",
       "3. <span style=white-space:pre-wrap>'Turkey Point Unit 3           '</span>\n",
       "4. <span style=white-space:pre-wrap>'Vogtle Unit 1                 '</span>\n",
       "5. <span style=white-space:pre-wrap>'River Bend Unit 1             '</span>\n",
       "6. <span style=white-space:pre-wrap>'Nine Mile Point Unit 1        '</span>\n",
       "7. <span style=white-space:pre-wrap>'Browns Ferry Unit 2           '</span>\n",
       "8. <span style=white-space:pre-wrap>'Watts Bar Unit 2              '</span>\n",
       "9. <span style=white-space:pre-wrap>'Madras 1                      '</span>\n",
       "10. <span style=white-space:pre-wrap>'Krsko 1                       '</span>\n",
       "11. <span style=white-space:pre-wrap>'Kori 4                        '</span>\n",
       "12. <span style=white-space:pre-wrap>'Hinkley Point B 2             '</span>\n",
       "13. <span style=white-space:pre-wrap>'Hunterston B 1                '</span>\n",
       "14. <span style=white-space:pre-wrap>'Doel 4                        '</span>\n",
       "15. <span style=white-space:pre-wrap>'Pickering 7                   '</span>\n",
       "16. <span style=white-space:pre-wrap>'Belleville 1                  '</span>\n",
       "17. <span style=white-space:pre-wrap>'Paluel 1                      '</span>\n",
       "18. <span style=white-space:pre-wrap>'Saint-Alban 2                 '</span>\n",
       "19. <span style=white-space:pre-wrap>'Atucha 1                      '</span>\n",
       "20. <span style=white-space:pre-wrap>'Maanshan 1                    '</span>\n",
       "21. <span style=white-space:pre-wrap>'Gundremmingen B               '</span>\n",
       "22. <span style=white-space:pre-wrap>'Gundremmingen C               '</span>\n",
       "23. <span style=white-space:pre-wrap>'Rovno 3                       '</span>\n",
       "24. <span style=white-space:pre-wrap>'Chasnupp 1                    '</span>\n",
       "25. <span style=white-space:pre-wrap>'Rajasthan 4                   '</span>\n",
       "26. <span style=white-space:pre-wrap>'Angra 2-1                     '</span>\n",
       "27. <span style=white-space:pre-wrap>'Kaiga 3                       '</span>\n",
       "28. <span style=white-space:pre-wrap>'Rajasthan 6                   '</span>\n",
       "29. <span style=white-space:pre-wrap>'Ningde 1                      '</span>\n",
       "30. 'Chasnupp 3'\n",
       "\n",
       "\n"
      ],
      "text/plain": [
       " [1] \"LaSalle Unit 1                \" \"LaSalle Unit 2                \"\n",
       " [3] \"Turkey Point Unit 3           \" \"Vogtle Unit 1                 \"\n",
       " [5] \"River Bend Unit 1             \" \"Nine Mile Point Unit 1        \"\n",
       " [7] \"Browns Ferry Unit 2           \" \"Watts Bar Unit 2              \"\n",
       " [9] \"Madras 1                      \" \"Krsko 1                       \"\n",
       "[11] \"Kori 4                        \" \"Hinkley Point B 2             \"\n",
       "[13] \"Hunterston B 1                \" \"Doel 4                        \"\n",
       "[15] \"Pickering 7                   \" \"Belleville 1                  \"\n",
       "[17] \"Paluel 1                      \" \"Saint-Alban 2                 \"\n",
       "[19] \"Atucha 1                      \" \"Maanshan 1                    \"\n",
       "[21] \"Gundremmingen B               \" \"Gundremmingen C               \"\n",
       "[23] \"Rovno 3                       \" \"Chasnupp 1                    \"\n",
       "[25] \"Rajasthan 4                   \" \"Angra 2-1                     \"\n",
       "[27] \"Kaiga 3                       \" \"Rajasthan 6                   \"\n",
       "[29] \"Ningde 1                      \" \"Chasnupp 3\"                    "
      ]
     },
     "metadata": {},
     "output_type": "display_data"
    }
   ],
   "source": [
    "#tail(data)\n",
    "nameByID(unique(subset(data,YrMn %in% c(EndDate-2, EndDate-1 ,EndDate) & ElementCode %in% c('C1   ','C3   ') & ElementValue>0, SourceId))[[1]])"
   ]
  },
  {
   "cell_type": "markdown",
   "metadata": {},
   "source": [
    "three or more scrams occured in the last 12 months"
   ]
  },
  {
   "cell_type": "code",
   "execution_count": 52,
   "metadata": {},
   "outputs": [
    {
     "data": {
      "text/html": [
       "<ol class=list-inline>\n",
       "\t<li><span style=white-space:pre-wrap>'Cattenom 4                    '</span></li>\n",
       "\t<li><span style=white-space:pre-wrap>'Atucha 1                      '</span></li>\n",
       "\t<li><span style=white-space:pre-wrap>'Angra 2-1                     '</span></li>\n",
       "\t<li>'Canada Nuclear Labs NRU Unit 1'</li>\n",
       "\t<li>'Chasnupp 3'</li>\n",
       "</ol>\n"
      ],
      "text/latex": [
       "\\begin{enumerate*}\n",
       "\\item 'Cattenom 4                    '\n",
       "\\item 'Atucha 1                      '\n",
       "\\item 'Angra 2-1                     '\n",
       "\\item 'Canada Nuclear Labs NRU Unit 1'\n",
       "\\item 'Chasnupp 3'\n",
       "\\end{enumerate*}\n"
      ],
      "text/markdown": [
       "1. <span style=white-space:pre-wrap>'Cattenom 4                    '</span>\n",
       "2. <span style=white-space:pre-wrap>'Atucha 1                      '</span>\n",
       "3. <span style=white-space:pre-wrap>'Angra 2-1                     '</span>\n",
       "4. 'Canada Nuclear Labs NRU Unit 1'\n",
       "5. 'Chasnupp 3'\n",
       "\n",
       "\n"
      ],
      "text/plain": [
       "[1] \"Cattenom 4                    \" \"Atucha 1                      \"\n",
       "[3] \"Angra 2-1                     \" \"Canada Nuclear Labs NRU Unit 1\"\n",
       "[5] \"Chasnupp 3\"                    "
      ]
     },
     "metadata": {},
     "output_type": "display_data"
    }
   ],
   "source": [
    "nameByID(unique(subset(data,YrMn > (EndDate-100) & ElementCode %in% c('C1   ','C3   ') & ElementValue>=3, SourceId))[[1]])"
   ]
  },
  {
   "cell_type": "code",
   "execution_count": null,
   "metadata": {
    "collapsed": true
   },
   "outputs": [],
   "source": []
  }
 ],
 "metadata": {
  "kernelspec": {
   "display_name": "R",
   "language": "R",
   "name": "ir"
  },
  "language_info": {
   "codemirror_mode": "r",
   "file_extension": ".r",
   "mimetype": "text/x-r-source",
   "name": "R",
   "pygments_lexer": "r",
   "version": "3.4.2"
  }
 },
 "nbformat": 4,
 "nbformat_minor": 2
}
