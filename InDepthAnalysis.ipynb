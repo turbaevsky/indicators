{
 "cells": [
  {
   "cell_type": "markdown",
   "metadata": {},
   "source": [
    "# Quarter in-depth PI analysis\n",
    "\n",
    "This report has been based on modified WANO PC approach. The purpose of this report is defining the units which need more support."
   ]
  },
  {
   "cell_type": "code",
   "execution_count": 2,
   "metadata": {
    "collapsed": true
   },
   "outputs": [],
   "source": [
    "#install.packages('logging', repos='http://cran.us.r-project.org')"
   ]
  },
  {
   "cell_type": "markdown",
   "metadata": {},
   "source": [
    "Analysing quarter"
   ]
  },
  {
   "cell_type": "code",
   "execution_count": 1,
   "metadata": {
    "collapsed": true
   },
   "outputs": [],
   "source": [
    "EndDate <- 201712"
   ]
  },
  {
   "cell_type": "markdown",
   "metadata": {},
   "source": [
    "Read all the necessary data and function"
   ]
  },
  {
   "cell_type": "code",
   "execution_count": 2,
   "metadata": {
    "collapsed": true
   },
   "outputs": [],
   "source": [
    "source('shiny/data.r')"
   ]
  },
  {
   "cell_type": "markdown",
   "metadata": {},
   "source": [
    "Criteria for FLR: the average two-year indicator is in the bottom decile in worlwide comparison\n",
    "\n",
    "SP1, SP2 and SP5 - indicator is safety related.\n",
    "\n",
    "Criteria for US7: \n",
    "- first filter: at least one scram occured during the last monitored quarter\n",
    "- second filter: three or more scrams occured in the last 12 months\n",
    "\n",
    "Criteria for FRI: calculated value is above the Defect Fuel Reference"
   ]
  },
  {
   "cell_type": "code",
   "execution_count": 3,
   "metadata": {
    "collapsed": true
   },
   "outputs": [],
   "source": [
    "#tail(r)\n",
    "IDbyName <- function(name){return(subset(place,AbbrevLocName==name,LocId)[[1]])}"
   ]
  },
  {
   "cell_type": "markdown",
   "metadata": {},
   "source": [
    "FLR: the average two-year indicator is in the bottom decile in worlwide comparison"
   ]
  },
  {
   "cell_type": "code",
   "execution_count": 4,
   "metadata": {
    "collapsed": true
   },
   "outputs": [],
   "source": [
    "flr_lim <- quantile(subset(r, IndicatorCode == 'FLR  ' & PeriodEndYrMn == EndDate & NumOfMonths == 24 & NonQualCode == ' ',ResultsValue)[[1]],probs=0.9)[[1]]\n",
    "flr <- subset(r, IndicatorCode == 'FLR  ' & PeriodEndYrMn == EndDate & NumOfMonths == 24 & NonQualCode == ' ' & ResultsValue>=flr_lim,LocId)[[1]]\n",
    "flr <- nameByID(flr)"
   ]
  },
  {
   "cell_type": "markdown",
   "metadata": {},
   "source": [
    "Units which is above the safety system criteria (0.02 for SP1-2, 0.025 for SP5) for 3-yrs data window"
   ]
  },
  {
   "cell_type": "code",
   "execution_count": 5,
   "metadata": {
    "collapsed": true
   },
   "outputs": [],
   "source": [
    "sp12 <- nameByID(subset(r, IndicatorCode %in% c('SP1  ','SP2  ') & PeriodEndYrMn == EndDate & NumOfMonths == 36 & NonQualCode == ' ' & ResultsValue >=0.02,LocId)[[1]])\n",
    "sp5 <- nameByID(subset(r, IndicatorCode == 'SP5  ' & PeriodEndYrMn == EndDate & NumOfMonths == 36 & NonQualCode == ' ' & ResultsValue >=0.025,LocId)[[1]])"
   ]
  },
  {
   "cell_type": "markdown",
   "metadata": {},
   "source": [
    "Units which has at least one scram occured during the last monitored quarter"
   ]
  },
  {
   "cell_type": "code",
   "execution_count": 6,
   "metadata": {
    "collapsed": true
   },
   "outputs": [],
   "source": [
    "#tail(data)\n",
    "scram <-nameByID(unique(subset(data,YrMn %in% c(EndDate-2, EndDate-1 ,EndDate) & ElementCode %in% c('C1   ','C3   ') & ElementValue>0, SourceId))[[1]])"
   ]
  },
  {
   "cell_type": "markdown",
   "metadata": {},
   "source": [
    "Units which has three or more scrams for the last 12 months"
   ]
  },
  {
   "cell_type": "code",
   "execution_count": 7,
   "metadata": {
    "collapsed": true
   },
   "outputs": [],
   "source": [
    "scrams3 <- nameByID(unique(subset(data,YrMn > (EndDate-100) & ElementCode %in% c('C1   ','C3   ') & ElementValue>=3, SourceId))[[1]])"
   ]
  },
  {
   "cell_type": "markdown",
   "metadata": {
    "collapsed": true
   },
   "source": [
    "FRI: calculated value is above the Defect Fuel Reference"
   ]
  },
  {
   "cell_type": "code",
   "execution_count": 8,
   "metadata": {
    "collapsed": true
   },
   "outputs": [],
   "source": [
    "u <- uByType()\n",
    "fri2 <- nameByID(subset(r, IndicatorCode == 'FRI  ' & PeriodEndYrMn == EndDate & NumOfMonths == 3 & NonQualCode == ' ' & ResultsValue >=300 & LocId %in% u$rType[[2]],LocId)[[1]])\n",
    "fri45 <- nameByID(subset(r, IndicatorCode == 'FRI  ' & PeriodEndYrMn == EndDate & NumOfMonths == 3 & NonQualCode == ' ' & ResultsValue >=5e-4 & LocId %in% c(u$rType[[4]],u$rType[[5]]),LocId)[[1]])\n",
    "fri1 <- nameByID(subset(r, IndicatorCode == 'FRI  ' & PeriodEndYrMn == EndDate & NumOfMonths == 3 & NonQualCode == ' ' & ResultsValue >=1e-3 & LocId %in% u$rType[[1]],LocId)[[1]])\n",
    "fri3 <- nameByID(subset(r, IndicatorCode == 'FRI  ' & PeriodEndYrMn == EndDate & NumOfMonths == 3 & NonQualCode == ' ' & ResultsValue >=1e-3 & LocId %in% u$rType[[3]],LocId)[[1]])\n",
    "fri <- c(fri1,fri2,fri3,fri45)"
   ]
  },
  {
   "cell_type": "markdown",
   "metadata": {},
   "source": [
    "*Note: FRI criteria for AGR and LWCGR are based on Index calculation*"
   ]
  },
  {
   "cell_type": "markdown",
   "metadata": {},
   "source": [
    "The whole list of units which have some issues"
   ]
  },
  {
   "cell_type": "code",
   "execution_count": 9,
   "metadata": {
    "collapsed": true
   },
   "outputs": [],
   "source": [
    "onFocus <- sort(unique(c(flr,sp12,sp5,scram,scrams3,fri)))"
   ]
  },
  {
   "cell_type": "code",
   "execution_count": 10,
   "metadata": {},
   "outputs": [
    {
     "data": {
      "text/html": [
       "<table>\n",
       "<thead><tr><th scope=col>onFocus</th><th scope=col>FLR</th><th scope=col>SSPI</th><th scope=col>Scram</th><th scope=col>Scrams</th><th scope=col>FRI</th><th scope=col>Idx</th></tr></thead>\n",
       "<tbody>\n",
       "\t<tr><td>ANO                           </td><td>                              </td><td>X                             </td><td>                              </td><td>                              </td><td>                              </td><td> 0                            </td></tr>\n",
       "\t<tr><td>ANO Unit 2                    </td><td>X                             </td><td>                              </td><td>                              </td><td>                              </td><td>                              </td><td>66                            </td></tr>\n",
       "\t<tr><td>Atucha 1                      </td><td>                              </td><td>                              </td><td>                              </td><td>X                             </td><td>                              </td><td>58                            </td></tr>\n",
       "\t<tr><td>Atucha 2                      </td><td>X                             </td><td>                              </td><td>                              </td><td>                              </td><td>X                             </td><td>60                            </td></tr>\n",
       "\t<tr><td>Beaver Valley Unit 1          </td><td>                              </td><td>                              </td><td>X                             </td><td>                              </td><td>                              </td><td>99                            </td></tr>\n",
       "\t<tr><td>Belleville 1                  </td><td>                              </td><td>                              </td><td>X                             </td><td>                              </td><td>                              </td><td>60                            </td></tr>\n",
       "\t<tr><td>Borssele 1                    </td><td>                              </td><td>                              </td><td>X                             </td><td>                              </td><td>                              </td><td>78                            </td></tr>\n",
       "\t<tr><td>Bruce 3                       </td><td>                              </td><td>                              </td><td>                              </td><td>                              </td><td>X                             </td><td>72                            </td></tr>\n",
       "\t<tr><td>Bruce 7                       </td><td>                              </td><td>X                             </td><td>                              </td><td>                              </td><td>X                             </td><td>69                            </td></tr>\n",
       "\t<tr><td>Brunswick Unit 1              </td><td>                              </td><td>                              </td><td>                              </td><td>                              </td><td>X                             </td><td>92                            </td></tr>\n",
       "\t<tr><td>Bugey 2                       </td><td>                              </td><td>                              </td><td>X                             </td><td>                              </td><td>                              </td><td>80                            </td></tr>\n",
       "\t<tr><td>Cattenom 1                    </td><td>X                             </td><td>                              </td><td>                              </td><td>                              </td><td>                              </td><td>67                            </td></tr>\n",
       "\t<tr><td>Chasnupp 1                    </td><td>                              </td><td>                              </td><td>X                             </td><td>                              </td><td>                              </td><td>77                            </td></tr>\n",
       "\t<tr><td>Chasnupp 2                    </td><td>                              </td><td>                              </td><td>X                             </td><td>                              </td><td>                              </td><td>88                            </td></tr>\n",
       "\t<tr><td>Chasnupp 3                    </td><td>                              </td><td>                              </td><td>X                             </td><td>X                             </td><td>                              </td><td>74                            </td></tr>\n",
       "\t<tr><td>Chasnupp 4                    </td><td>                              </td><td>                              </td><td>X                             </td><td>X                             </td><td>                              </td><td> 0                            </td></tr>\n",
       "\t<tr><td>Chinon B1                     </td><td>                              </td><td>                              </td><td>X                             </td><td>                              </td><td>                              </td><td>73                            </td></tr>\n",
       "\t<tr><td>Chinon B3                     </td><td>                              </td><td>                              </td><td>                              </td><td>                              </td><td>X                             </td><td>86                            </td></tr>\n",
       "\t<tr><td>Chooz B1                      </td><td>                              </td><td>                              </td><td>X                             </td><td>                              </td><td>                              </td><td>73                            </td></tr>\n",
       "\t<tr><td>Chooz B2                      </td><td>                              </td><td>                              </td><td>X                             </td><td>                              </td><td>                              </td><td>73                            </td></tr>\n",
       "\t<tr><td>Civaux 2                      </td><td>                              </td><td>                              </td><td>                              </td><td>                              </td><td>X                             </td><td>68                            </td></tr>\n",
       "\t<tr><td>Clinton Unit 1                </td><td>                              </td><td>                              </td><td>X                             </td><td>                              </td><td>                              </td><td>96                            </td></tr>\n",
       "\t<tr><td>Comanche Peak Unit 2          </td><td>X                             </td><td>                              </td><td>X                             </td><td>                              </td><td>                              </td><td>70                            </td></tr>\n",
       "\t<tr><td>Dampierre 2                   </td><td>X                             </td><td>                              </td><td>                              </td><td>                              </td><td>                              </td><td>65                            </td></tr>\n",
       "\t<tr><td>Diablo Canyon Unit 2          </td><td>                              </td><td>X                             </td><td>                              </td><td>                              </td><td>                              </td><td>90                            </td></tr>\n",
       "\t<tr><td>Doel 1                        </td><td>X                             </td><td>                              </td><td>                              </td><td>                              </td><td>                              </td><td>69                            </td></tr>\n",
       "\t<tr><td>Dukovany 1                    </td><td>                              </td><td>X                             </td><td>                              </td><td>                              </td><td>                              </td><td>81                            </td></tr>\n",
       "\t<tr><td>Dukovany 2                    </td><td>X                             </td><td>X                             </td><td>                              </td><td>                              </td><td>                              </td><td>60                            </td></tr>\n",
       "\t<tr><td>Dukovany 3                    </td><td>                              </td><td>X                             </td><td>                              </td><td>                              </td><td>                              </td><td>75                            </td></tr>\n",
       "\t<tr><td>Dungeness B 3                 </td><td>X                             </td><td>                              </td><td>X                             </td><td>                              </td><td>X                             </td><td>64                            </td></tr>\n",
       "\t<tr><td>...</td><td>...</td><td>...</td><td>...</td><td>...</td><td>...</td><td>...</td></tr>\n",
       "\t<tr><td>Pickering 7                   </td><td>X                             </td><td>                              </td><td>                              </td><td>                              </td><td>                              </td><td> 64                           </td></tr>\n",
       "\t<tr><td>Pickering 8                   </td><td>                              </td><td>                              </td><td>                              </td><td>                              </td><td>X                             </td><td> 78                           </td></tr>\n",
       "\t<tr><td>Point Lepreau 1               </td><td>                              </td><td>                              </td><td>X                             </td><td>                              </td><td>                              </td><td> 87                           </td></tr>\n",
       "\t<tr><td>Prairie Island Unit 2         </td><td>X                             </td><td>                              </td><td>                              </td><td>                              </td><td>                              </td><td> 99                           </td></tr>\n",
       "\t<tr><td>Rajasthan 2                   </td><td>X                             </td><td>                              </td><td>                              </td><td>X                             </td><td>X                             </td><td> 50                           </td></tr>\n",
       "\t<tr><td>Rajasthan 3                   </td><td>                              </td><td>                              </td><td>                              </td><td>                              </td><td>X                             </td><td> 86                           </td></tr>\n",
       "\t<tr><td>Rajasthan 4                   </td><td>                              </td><td>                              </td><td>                              </td><td>                              </td><td>X                             </td><td> 92                           </td></tr>\n",
       "\t<tr><td>Rajasthan 5                   </td><td>                              </td><td>                              </td><td>                              </td><td>                              </td><td>X                             </td><td> 94                           </td></tr>\n",
       "\t<tr><td>Rajasthan 6                   </td><td>X                             </td><td>                              </td><td>                              </td><td>                              </td><td>X                             </td><td> 65                           </td></tr>\n",
       "\t<tr><td>Ringhals 4                    </td><td>                              </td><td>                              </td><td>X                             </td><td>                              </td><td>                              </td><td> 91                           </td></tr>\n",
       "\t<tr><td>River Bend Unit 1             </td><td>X                             </td><td>                              </td><td>                              </td><td>                              </td><td>X                             </td><td> 50                           </td></tr>\n",
       "\t<tr><td>Rovno 3                       </td><td>X                             </td><td>                              </td><td>                              </td><td>                              </td><td>                              </td><td> 69                           </td></tr>\n",
       "\t<tr><td>Salem Unit 2                  </td><td>X                             </td><td>                              </td><td>                              </td><td>                              </td><td>                              </td><td> 63                           </td></tr>\n",
       "\t<tr><td>Sequoyah Unit 1               </td><td>X                             </td><td>X                             </td><td>                              </td><td>                              </td><td>                              </td><td> 87                           </td></tr>\n",
       "\t<tr><td>Sequoyah Unit 2               </td><td>                              </td><td>X                             </td><td>                              </td><td>                              </td><td>                              </td><td> 92                           </td></tr>\n",
       "\t<tr><td>Smolensk 2                    </td><td>X                             </td><td>                              </td><td>                              </td><td>                              </td><td>                              </td><td> 64                           </td></tr>\n",
       "\t<tr><td>South Ukraine 2               </td><td>X                             </td><td>                              </td><td>                              </td><td>                              </td><td>                              </td><td> 66                           </td></tr>\n",
       "\t<tr><td>St. Lucie Unit 2              </td><td>                              </td><td>                              </td><td>X                             </td><td>                              </td><td>                              </td><td>100                           </td></tr>\n",
       "\t<tr><td>Summer Unit 1                 </td><td>                              </td><td>                              </td><td>X                             </td><td>                              </td><td>                              </td><td> 80                           </td></tr>\n",
       "\t<tr><td>Temelin 1                     </td><td>                              </td><td>                              </td><td>                              </td><td>                              </td><td>X                             </td><td> 82                           </td></tr>\n",
       "\t<tr><td>Temelin 2                     </td><td>X                             </td><td>                              </td><td>                              </td><td>                              </td><td>X                             </td><td> 72                           </td></tr>\n",
       "\t<tr><td>Tianwan 1                     </td><td>                              </td><td>                              </td><td>X                             </td><td>                              </td><td>                              </td><td> 94                           </td></tr>\n",
       "\t<tr><td>Tihange 1                     </td><td>X                             </td><td>                              </td><td>                              </td><td>                              </td><td>                              </td><td> 54                           </td></tr>\n",
       "\t<tr><td>Tihange 3                     </td><td>                              </td><td>                              </td><td>X                             </td><td>                              </td><td>                              </td><td> 93                           </td></tr>\n",
       "\t<tr><td>Vaygach 1                     </td><td>                              </td><td>                              </td><td>X                             </td><td>                              </td><td>                              </td><td>  0                           </td></tr>\n",
       "\t<tr><td>Watts Bar Unit 2              </td><td>X                             </td><td>                              </td><td>X                             </td><td>                              </td><td>                              </td><td> 60                           </td></tr>\n",
       "\t<tr><td>Wolsong 1                     </td><td>X                             </td><td>                              </td><td>                              </td><td>                              </td><td>                              </td><td> 60                           </td></tr>\n",
       "\t<tr><td>Wolsong 3                     </td><td>X                             </td><td>                              </td><td>X                             </td><td>                              </td><td>                              </td><td> 70                           </td></tr>\n",
       "\t<tr><td>Yangjiang 2                   </td><td>                              </td><td>                              </td><td>X                             </td><td>                              </td><td>X                             </td><td> 90                           </td></tr>\n",
       "\t<tr><td>Zaporozhye 1                  </td><td>                              </td><td>                              </td><td>                              </td><td>                              </td><td>X                             </td><td> 74                           </td></tr>\n",
       "</tbody>\n",
       "</table>\n"
      ],
      "text/latex": [
       "\\begin{tabular}{r|lllllll}\n",
       " onFocus & FLR & SSPI & Scram & Scrams & FRI & Idx\\\\\n",
       "\\hline\n",
       "\t ANO                            &                                & X                              &                                &                                &                                &  0                            \\\\\n",
       "\t ANO Unit 2                     & X                              &                                &                                &                                &                                & 66                            \\\\\n",
       "\t Atucha 1                       &                                &                                &                                & X                              &                                & 58                            \\\\\n",
       "\t Atucha 2                       & X                              &                                &                                &                                & X                              & 60                            \\\\\n",
       "\t Beaver Valley Unit 1           &                                &                                & X                              &                                &                                & 99                            \\\\\n",
       "\t Belleville 1                   &                                &                                & X                              &                                &                                & 60                            \\\\\n",
       "\t Borssele 1                     &                                &                                & X                              &                                &                                & 78                            \\\\\n",
       "\t Bruce 3                        &                                &                                &                                &                                & X                              & 72                            \\\\\n",
       "\t Bruce 7                        &                                & X                              &                                &                                & X                              & 69                            \\\\\n",
       "\t Brunswick Unit 1               &                                &                                &                                &                                & X                              & 92                            \\\\\n",
       "\t Bugey 2                        &                                &                                & X                              &                                &                                & 80                            \\\\\n",
       "\t Cattenom 1                     & X                              &                                &                                &                                &                                & 67                            \\\\\n",
       "\t Chasnupp 1                     &                                &                                & X                              &                                &                                & 77                            \\\\\n",
       "\t Chasnupp 2                     &                                &                                & X                              &                                &                                & 88                            \\\\\n",
       "\t Chasnupp 3                     &                                &                                & X                              & X                              &                                & 74                            \\\\\n",
       "\t Chasnupp 4                     &                                &                                & X                              & X                              &                                &  0                            \\\\\n",
       "\t Chinon B1                      &                                &                                & X                              &                                &                                & 73                            \\\\\n",
       "\t Chinon B3                      &                                &                                &                                &                                & X                              & 86                            \\\\\n",
       "\t Chooz B1                       &                                &                                & X                              &                                &                                & 73                            \\\\\n",
       "\t Chooz B2                       &                                &                                & X                              &                                &                                & 73                            \\\\\n",
       "\t Civaux 2                       &                                &                                &                                &                                & X                              & 68                            \\\\\n",
       "\t Clinton Unit 1                 &                                &                                & X                              &                                &                                & 96                            \\\\\n",
       "\t Comanche Peak Unit 2           & X                              &                                & X                              &                                &                                & 70                            \\\\\n",
       "\t Dampierre 2                    & X                              &                                &                                &                                &                                & 65                            \\\\\n",
       "\t Diablo Canyon Unit 2           &                                & X                              &                                &                                &                                & 90                            \\\\\n",
       "\t Doel 1                         & X                              &                                &                                &                                &                                & 69                            \\\\\n",
       "\t Dukovany 1                     &                                & X                              &                                &                                &                                & 81                            \\\\\n",
       "\t Dukovany 2                     & X                              & X                              &                                &                                &                                & 60                            \\\\\n",
       "\t Dukovany 3                     &                                & X                              &                                &                                &                                & 75                            \\\\\n",
       "\t Dungeness B 3                  & X                              &                                & X                              &                                & X                              & 64                            \\\\\n",
       "\t ... & ... & ... & ... & ... & ... & ...\\\\\n",
       "\t Pickering 7                    & X                              &                                &                                &                                &                                &  64                           \\\\\n",
       "\t Pickering 8                    &                                &                                &                                &                                & X                              &  78                           \\\\\n",
       "\t Point Lepreau 1                &                                &                                & X                              &                                &                                &  87                           \\\\\n",
       "\t Prairie Island Unit 2          & X                              &                                &                                &                                &                                &  99                           \\\\\n",
       "\t Rajasthan 2                    & X                              &                                &                                & X                              & X                              &  50                           \\\\\n",
       "\t Rajasthan 3                    &                                &                                &                                &                                & X                              &  86                           \\\\\n",
       "\t Rajasthan 4                    &                                &                                &                                &                                & X                              &  92                           \\\\\n",
       "\t Rajasthan 5                    &                                &                                &                                &                                & X                              &  94                           \\\\\n",
       "\t Rajasthan 6                    & X                              &                                &                                &                                & X                              &  65                           \\\\\n",
       "\t Ringhals 4                     &                                &                                & X                              &                                &                                &  91                           \\\\\n",
       "\t River Bend Unit 1              & X                              &                                &                                &                                & X                              &  50                           \\\\\n",
       "\t Rovno 3                        & X                              &                                &                                &                                &                                &  69                           \\\\\n",
       "\t Salem Unit 2                   & X                              &                                &                                &                                &                                &  63                           \\\\\n",
       "\t Sequoyah Unit 1                & X                              & X                              &                                &                                &                                &  87                           \\\\\n",
       "\t Sequoyah Unit 2                &                                & X                              &                                &                                &                                &  92                           \\\\\n",
       "\t Smolensk 2                     & X                              &                                &                                &                                &                                &  64                           \\\\\n",
       "\t South Ukraine 2                & X                              &                                &                                &                                &                                &  66                           \\\\\n",
       "\t St. Lucie Unit 2               &                                &                                & X                              &                                &                                & 100                           \\\\\n",
       "\t Summer Unit 1                  &                                &                                & X                              &                                &                                &  80                           \\\\\n",
       "\t Temelin 1                      &                                &                                &                                &                                & X                              &  82                           \\\\\n",
       "\t Temelin 2                      & X                              &                                &                                &                                & X                              &  72                           \\\\\n",
       "\t Tianwan 1                      &                                &                                & X                              &                                &                                &  94                           \\\\\n",
       "\t Tihange 1                      & X                              &                                &                                &                                &                                &  54                           \\\\\n",
       "\t Tihange 3                      &                                &                                & X                              &                                &                                &  93                           \\\\\n",
       "\t Vaygach 1                      &                                &                                & X                              &                                &                                &   0                           \\\\\n",
       "\t Watts Bar Unit 2               & X                              &                                & X                              &                                &                                &  60                           \\\\\n",
       "\t Wolsong 1                      & X                              &                                &                                &                                &                                &  60                           \\\\\n",
       "\t Wolsong 3                      & X                              &                                & X                              &                                &                                &  70                           \\\\\n",
       "\t Yangjiang 2                    &                                &                                & X                              &                                & X                              &  90                           \\\\\n",
       "\t Zaporozhye 1                   &                                &                                &                                &                                & X                              &  74                           \\\\\n",
       "\\end{tabular}\n"
      ],
      "text/markdown": [
       "\n",
       "onFocus | FLR | SSPI | Scram | Scrams | FRI | Idx | \n",
       "|---|---|---|---|---|---|---|---|---|---|---|---|---|---|---|---|---|---|---|---|---|---|---|---|---|---|---|---|---|---|---|---|---|---|---|---|---|---|---|---|---|---|---|---|---|---|---|---|---|---|---|---|---|---|---|---|---|---|---|---|---|\n",
       "| ANO                            |                                | X                              |                                |                                |                                |  0                             | \n",
       "| ANO Unit 2                     | X                              |                                |                                |                                |                                | 66                             | \n",
       "| Atucha 1                       |                                |                                |                                | X                              |                                | 58                             | \n",
       "| Atucha 2                       | X                              |                                |                                |                                | X                              | 60                             | \n",
       "| Beaver Valley Unit 1           |                                |                                | X                              |                                |                                | 99                             | \n",
       "| Belleville 1                   |                                |                                | X                              |                                |                                | 60                             | \n",
       "| Borssele 1                     |                                |                                | X                              |                                |                                | 78                             | \n",
       "| Bruce 3                        |                                |                                |                                |                                | X                              | 72                             | \n",
       "| Bruce 7                        |                                | X                              |                                |                                | X                              | 69                             | \n",
       "| Brunswick Unit 1               |                                |                                |                                |                                | X                              | 92                             | \n",
       "| Bugey 2                        |                                |                                | X                              |                                |                                | 80                             | \n",
       "| Cattenom 1                     | X                              |                                |                                |                                |                                | 67                             | \n",
       "| Chasnupp 1                     |                                |                                | X                              |                                |                                | 77                             | \n",
       "| Chasnupp 2                     |                                |                                | X                              |                                |                                | 88                             | \n",
       "| Chasnupp 3                     |                                |                                | X                              | X                              |                                | 74                             | \n",
       "| Chasnupp 4                     |                                |                                | X                              | X                              |                                |  0                             | \n",
       "| Chinon B1                      |                                |                                | X                              |                                |                                | 73                             | \n",
       "| Chinon B3                      |                                |                                |                                |                                | X                              | 86                             | \n",
       "| Chooz B1                       |                                |                                | X                              |                                |                                | 73                             | \n",
       "| Chooz B2                       |                                |                                | X                              |                                |                                | 73                             | \n",
       "| Civaux 2                       |                                |                                |                                |                                | X                              | 68                             | \n",
       "| Clinton Unit 1                 |                                |                                | X                              |                                |                                | 96                             | \n",
       "| Comanche Peak Unit 2           | X                              |                                | X                              |                                |                                | 70                             | \n",
       "| Dampierre 2                    | X                              |                                |                                |                                |                                | 65                             | \n",
       "| Diablo Canyon Unit 2           |                                | X                              |                                |                                |                                | 90                             | \n",
       "| Doel 1                         | X                              |                                |                                |                                |                                | 69                             | \n",
       "| Dukovany 1                     |                                | X                              |                                |                                |                                | 81                             | \n",
       "| Dukovany 2                     | X                              | X                              |                                |                                |                                | 60                             | \n",
       "| Dukovany 3                     |                                | X                              |                                |                                |                                | 75                             | \n",
       "| Dungeness B 3                  | X                              |                                | X                              |                                | X                              | 64                             | \n",
       "| ... | ... | ... | ... | ... | ... | ... | \n",
       "| Pickering 7                    | X                              |                                |                                |                                |                                |  64                            | \n",
       "| Pickering 8                    |                                |                                |                                |                                | X                              |  78                            | \n",
       "| Point Lepreau 1                |                                |                                | X                              |                                |                                |  87                            | \n",
       "| Prairie Island Unit 2          | X                              |                                |                                |                                |                                |  99                            | \n",
       "| Rajasthan 2                    | X                              |                                |                                | X                              | X                              |  50                            | \n",
       "| Rajasthan 3                    |                                |                                |                                |                                | X                              |  86                            | \n",
       "| Rajasthan 4                    |                                |                                |                                |                                | X                              |  92                            | \n",
       "| Rajasthan 5                    |                                |                                |                                |                                | X                              |  94                            | \n",
       "| Rajasthan 6                    | X                              |                                |                                |                                | X                              |  65                            | \n",
       "| Ringhals 4                     |                                |                                | X                              |                                |                                |  91                            | \n",
       "| River Bend Unit 1              | X                              |                                |                                |                                | X                              |  50                            | \n",
       "| Rovno 3                        | X                              |                                |                                |                                |                                |  69                            | \n",
       "| Salem Unit 2                   | X                              |                                |                                |                                |                                |  63                            | \n",
       "| Sequoyah Unit 1                | X                              | X                              |                                |                                |                                |  87                            | \n",
       "| Sequoyah Unit 2                |                                | X                              |                                |                                |                                |  92                            | \n",
       "| Smolensk 2                     | X                              |                                |                                |                                |                                |  64                            | \n",
       "| South Ukraine 2                | X                              |                                |                                |                                |                                |  66                            | \n",
       "| St. Lucie Unit 2               |                                |                                | X                              |                                |                                | 100                            | \n",
       "| Summer Unit 1                  |                                |                                | X                              |                                |                                |  80                            | \n",
       "| Temelin 1                      |                                |                                |                                |                                | X                              |  82                            | \n",
       "| Temelin 2                      | X                              |                                |                                |                                | X                              |  72                            | \n",
       "| Tianwan 1                      |                                |                                | X                              |                                |                                |  94                            | \n",
       "| Tihange 1                      | X                              |                                |                                |                                |                                |  54                            | \n",
       "| Tihange 3                      |                                |                                | X                              |                                |                                |  93                            | \n",
       "| Vaygach 1                      |                                |                                | X                              |                                |                                |   0                            | \n",
       "| Watts Bar Unit 2               | X                              |                                | X                              |                                |                                |  60                            | \n",
       "| Wolsong 1                      | X                              |                                |                                |                                |                                |  60                            | \n",
       "| Wolsong 3                      | X                              |                                | X                              |                                |                                |  70                            | \n",
       "| Yangjiang 2                    |                                |                                | X                              |                                | X                              |  90                            | \n",
       "| Zaporozhye 1                   |                                |                                |                                |                                | X                              |  74                            | \n",
       "\n",
       "\n"
      ],
      "text/plain": [
       "    onFocus                        FLR SSPI Scram Scrams FRI Idx\n",
       "1   ANO                                X                      0 \n",
       "2   ANO Unit 2                     X                         66 \n",
       "3   Atucha 1                                      X          58 \n",
       "4   Atucha 2                       X                     X   60 \n",
       "5   Beaver Valley Unit 1                    X                99 \n",
       "6   Belleville 1                            X                60 \n",
       "7   Borssele 1                              X                78 \n",
       "8   Bruce 3                                              X   72 \n",
       "9   Bruce 7                            X                 X   69 \n",
       "10  Brunswick Unit 1                                     X   92 \n",
       "11  Bugey 2                                 X                80 \n",
       "12  Cattenom 1                     X                         67 \n",
       "13  Chasnupp 1                              X                77 \n",
       "14  Chasnupp 2                              X                88 \n",
       "15  Chasnupp 3                              X     X          74 \n",
       "16  Chasnupp 4                              X     X           0 \n",
       "17  Chinon B1                               X                73 \n",
       "18  Chinon B3                                            X   86 \n",
       "19  Chooz B1                                X                73 \n",
       "20  Chooz B2                                X                73 \n",
       "21  Civaux 2                                             X   68 \n",
       "22  Clinton Unit 1                          X                96 \n",
       "23  Comanche Peak Unit 2           X        X                70 \n",
       "24  Dampierre 2                    X                         65 \n",
       "25  Diablo Canyon Unit 2               X                     90 \n",
       "26  Doel 1                         X                         69 \n",
       "27  Dukovany 1                         X                     81 \n",
       "28  Dukovany 2                     X   X                     60 \n",
       "29  Dukovany 3                         X                     75 \n",
       "30  Dungeness B 3                  X        X            X   64 \n",
       "... ...                            ... ...  ...   ...    ... ...\n",
       "69  Pickering 7                    X                          64\n",
       "70  Pickering 8                                          X    78\n",
       "71  Point Lepreau 1                         X                 87\n",
       "72  Prairie Island Unit 2          X                          99\n",
       "73  Rajasthan 2                    X              X      X    50\n",
       "74  Rajasthan 3                                          X    86\n",
       "75  Rajasthan 4                                          X    92\n",
       "76  Rajasthan 5                                          X    94\n",
       "77  Rajasthan 6                    X                     X    65\n",
       "78  Ringhals 4                              X                 91\n",
       "79  River Bend Unit 1              X                     X    50\n",
       "80  Rovno 3                        X                          69\n",
       "81  Salem Unit 2                   X                          63\n",
       "82  Sequoyah Unit 1                X   X                      87\n",
       "83  Sequoyah Unit 2                    X                      92\n",
       "84  Smolensk 2                     X                          64\n",
       "85  South Ukraine 2                X                          66\n",
       "86  St. Lucie Unit 2                        X                100\n",
       "87  Summer Unit 1                           X                 80\n",
       "88  Temelin 1                                            X    82\n",
       "89  Temelin 2                      X                     X    72\n",
       "90  Tianwan 1                               X                 94\n",
       "91  Tihange 1                      X                          54\n",
       "92  Tihange 3                               X                 93\n",
       "93  Vaygach 1                               X                  0\n",
       "94  Watts Bar Unit 2               X        X                 60\n",
       "95  Wolsong 1                      X                          60\n",
       "96  Wolsong 3                      X        X                 70\n",
       "97  Yangjiang 2                             X            X    90\n",
       "98  Zaporozhye 1                                         X    74"
      ]
     },
     "metadata": {},
     "output_type": "display_data"
    },
    {
     "data": {
      "text/html": [
       "98"
      ],
      "text/latex": [
       "98"
      ],
      "text/markdown": [
       "98"
      ],
      "text/plain": [
       "[1] 98"
      ]
     },
     "metadata": {},
     "output_type": "display_data"
    }
   ],
   "source": [
    "df <- data.frame(onFocus)\n",
    "flrCol <- c()\n",
    "sspiCol <-c()\n",
    "S <- c()\n",
    "S3 <- c()\n",
    "FRI <- c()\n",
    "Idx <- c()\n",
    "\n",
    "for (i in df$onFocus){\n",
    "    if (i %in% flr) flrCol <- c(flrCol,'X') else flrCol <- c(flrCol,'')\n",
    "    if (i %in% c(sp12,sp5)) sspiCol <- c(sspiCol,'X') else sspiCol <- c(sspiCol,'')\n",
    "    if (i %in% scram) S <- c(S,'X') else S <- c(S,'')\n",
    "    if (i %in% scrams3) S3 <- c(S3,'X') else S3 <- c(S3,'')\n",
    "    if (i %in% fri) FRI <- c(FRI,'X') else FRI <- c(FRI,'')\n",
    "    index <- round(subset(idx,IndexId==4 & LocId==IDbyName(i) & PeriodEndYrMn==EndDate & NonQualCode==' ',IndexValue)[[1]])\n",
    "    #print(paste(i,index))\n",
    "    if (length(index) && is.numeric(index)) Idx <- c(Idx,index)\n",
    "    else Idx <- c(Idx,0)\n",
    "}\n",
    "#Idx\n",
    "#length(Idx)\n",
    "df$FLR <- flrCol\n",
    "df$SSPI <- sspiCol  \n",
    "df$Scram <- S\n",
    "df$Scrams <- S3\n",
    "df$FRI <- FRI\n",
    "df$Idx <- Idx\n",
    "df\n",
    "write.csv(df,'onFocus.csv')\n",
    "length(df[,1])"
   ]
  },
  {
   "cell_type": "markdown",
   "metadata": {},
   "source": [
    "The list of units which has *more than one* issue listed above - candidates for *units need more attention*"
   ]
  },
  {
   "cell_type": "code",
   "execution_count": 11,
   "metadata": {},
   "outputs": [
    {
     "data": {
      "text/html": [
       "<table>\n",
       "<thead><tr><th></th><th scope=col>onFocus</th><th scope=col>FLR</th><th scope=col>SSPI</th><th scope=col>Scram</th><th scope=col>Scrams</th><th scope=col>FRI</th><th scope=col>Idx</th></tr></thead>\n",
       "<tbody>\n",
       "\t<tr><th scope=row>4</th><td>Atucha 2                      </td><td>X                             </td><td>                              </td><td>                              </td><td>                              </td><td>X                             </td><td>60                            </td></tr>\n",
       "\t<tr><th scope=row>9</th><td>Bruce 7                       </td><td>                              </td><td>X                             </td><td>                              </td><td>                              </td><td>X                             </td><td>69                            </td></tr>\n",
       "\t<tr><th scope=row>15</th><td>Chasnupp 3                    </td><td>                              </td><td>                              </td><td>X                             </td><td>X                             </td><td>                              </td><td>74                            </td></tr>\n",
       "\t<tr><th scope=row>16</th><td>Chasnupp 4                    </td><td>                              </td><td>                              </td><td>X                             </td><td>X                             </td><td>                              </td><td> 0                            </td></tr>\n",
       "\t<tr><th scope=row>23</th><td>Comanche Peak Unit 2          </td><td>X                             </td><td>                              </td><td>X                             </td><td>                              </td><td>                              </td><td>70                            </td></tr>\n",
       "\t<tr><th scope=row>28</th><td>Dukovany 2                    </td><td>X                             </td><td>X                             </td><td>                              </td><td>                              </td><td>                              </td><td>60                            </td></tr>\n",
       "\t<tr><th scope=row>30</th><td>Dungeness B 3                 </td><td>X                             </td><td>                              </td><td>X                             </td><td>                              </td><td>X                             </td><td>64                            </td></tr>\n",
       "\t<tr><th scope=row>31</th><td>Dungeness B 4                 </td><td>X                             </td><td>                              </td><td>X                             </td><td>                              </td><td>X                             </td><td>70                            </td></tr>\n",
       "\t<tr><th scope=row>32</th><td>Fermi Unit 2                  </td><td>                              </td><td>X                             </td><td>                              </td><td>                              </td><td>X                             </td><td>79                            </td></tr>\n",
       "\t<tr><th scope=row>36</th><td>Forsmark 3                    </td><td>X                             </td><td>                              </td><td>                              </td><td>                              </td><td>X                             </td><td>65                            </td></tr>\n",
       "\t<tr><th scope=row>38</th><td>Grand Gulf Unit 1             </td><td>X                             </td><td>X                             </td><td>                              </td><td>                              </td><td>                              </td><td>49                            </td></tr>\n",
       "\t<tr><th scope=row>44</th><td>Heysham A 2                   </td><td>X                             </td><td>                              </td><td>X                             </td><td>                              </td><td>                              </td><td>70                            </td></tr>\n",
       "\t<tr><th scope=row>50</th><td>Kalinin 3                     </td><td>X                             </td><td>                              </td><td>                              </td><td>                              </td><td>X                             </td><td>67                            </td></tr>\n",
       "\t<tr><th scope=row>53</th><td>Kudankulam 1                  </td><td>X                             </td><td>X                             </td><td>X                             </td><td>                              </td><td>                              </td><td>62                            </td></tr>\n",
       "\t<tr><th scope=row>56</th><td>Laguna Verde 1                </td><td>                              </td><td>X                             </td><td>                              </td><td>X                             </td><td>                              </td><td>73                            </td></tr>\n",
       "\t<tr><th scope=row>61</th><td>Narora 2                      </td><td>X                             </td><td>                              </td><td>                              </td><td>                              </td><td>X                             </td><td>77                            </td></tr>\n",
       "\t<tr><th scope=row>73</th><td>Rajasthan 2                   </td><td>X                             </td><td>                              </td><td>                              </td><td>X                             </td><td>X                             </td><td>50                            </td></tr>\n",
       "\t<tr><th scope=row>77</th><td>Rajasthan 6                   </td><td>X                             </td><td>                              </td><td>                              </td><td>                              </td><td>X                             </td><td>65                            </td></tr>\n",
       "\t<tr><th scope=row>79</th><td>River Bend Unit 1             </td><td>X                             </td><td>                              </td><td>                              </td><td>                              </td><td>X                             </td><td>50                            </td></tr>\n",
       "\t<tr><th scope=row>82</th><td>Sequoyah Unit 1               </td><td>X                             </td><td>X                             </td><td>                              </td><td>                              </td><td>                              </td><td>87                            </td></tr>\n",
       "\t<tr><th scope=row>89</th><td>Temelin 2                     </td><td>X                             </td><td>                              </td><td>                              </td><td>                              </td><td>X                             </td><td>72                            </td></tr>\n",
       "\t<tr><th scope=row>94</th><td>Watts Bar Unit 2              </td><td>X                             </td><td>                              </td><td>X                             </td><td>                              </td><td>                              </td><td>60                            </td></tr>\n",
       "\t<tr><th scope=row>96</th><td>Wolsong 3                     </td><td>X                             </td><td>                              </td><td>X                             </td><td>                              </td><td>                              </td><td>70                            </td></tr>\n",
       "\t<tr><th scope=row>97</th><td>Yangjiang 2                   </td><td>                              </td><td>                              </td><td>X                             </td><td>                              </td><td>X                             </td><td>90                            </td></tr>\n",
       "</tbody>\n",
       "</table>\n"
      ],
      "text/latex": [
       "\\begin{tabular}{r|lllllll}\n",
       "  & onFocus & FLR & SSPI & Scram & Scrams & FRI & Idx\\\\\n",
       "\\hline\n",
       "\t4 & Atucha 2                       & X                              &                                &                                &                                & X                              & 60                            \\\\\n",
       "\t9 & Bruce 7                        &                                & X                              &                                &                                & X                              & 69                            \\\\\n",
       "\t15 & Chasnupp 3                     &                                &                                & X                              & X                              &                                & 74                            \\\\\n",
       "\t16 & Chasnupp 4                     &                                &                                & X                              & X                              &                                &  0                            \\\\\n",
       "\t23 & Comanche Peak Unit 2           & X                              &                                & X                              &                                &                                & 70                            \\\\\n",
       "\t28 & Dukovany 2                     & X                              & X                              &                                &                                &                                & 60                            \\\\\n",
       "\t30 & Dungeness B 3                  & X                              &                                & X                              &                                & X                              & 64                            \\\\\n",
       "\t31 & Dungeness B 4                  & X                              &                                & X                              &                                & X                              & 70                            \\\\\n",
       "\t32 & Fermi Unit 2                   &                                & X                              &                                &                                & X                              & 79                            \\\\\n",
       "\t36 & Forsmark 3                     & X                              &                                &                                &                                & X                              & 65                            \\\\\n",
       "\t38 & Grand Gulf Unit 1              & X                              & X                              &                                &                                &                                & 49                            \\\\\n",
       "\t44 & Heysham A 2                    & X                              &                                & X                              &                                &                                & 70                            \\\\\n",
       "\t50 & Kalinin 3                      & X                              &                                &                                &                                & X                              & 67                            \\\\\n",
       "\t53 & Kudankulam 1                   & X                              & X                              & X                              &                                &                                & 62                            \\\\\n",
       "\t56 & Laguna Verde 1                 &                                & X                              &                                & X                              &                                & 73                            \\\\\n",
       "\t61 & Narora 2                       & X                              &                                &                                &                                & X                              & 77                            \\\\\n",
       "\t73 & Rajasthan 2                    & X                              &                                &                                & X                              & X                              & 50                            \\\\\n",
       "\t77 & Rajasthan 6                    & X                              &                                &                                &                                & X                              & 65                            \\\\\n",
       "\t79 & River Bend Unit 1              & X                              &                                &                                &                                & X                              & 50                            \\\\\n",
       "\t82 & Sequoyah Unit 1                & X                              & X                              &                                &                                &                                & 87                            \\\\\n",
       "\t89 & Temelin 2                      & X                              &                                &                                &                                & X                              & 72                            \\\\\n",
       "\t94 & Watts Bar Unit 2               & X                              &                                & X                              &                                &                                & 60                            \\\\\n",
       "\t96 & Wolsong 3                      & X                              &                                & X                              &                                &                                & 70                            \\\\\n",
       "\t97 & Yangjiang 2                    &                                &                                & X                              &                                & X                              & 90                            \\\\\n",
       "\\end{tabular}\n"
      ],
      "text/markdown": [
       "\n",
       "| <!--/--> | onFocus | FLR | SSPI | Scram | Scrams | FRI | Idx | \n",
       "|---|---|---|---|---|---|---|---|---|---|---|---|---|---|---|---|---|---|---|---|---|---|---|---|\n",
       "| 4 | Atucha 2                       | X                              |                                |                                |                                | X                              | 60                             | \n",
       "| 9 | Bruce 7                        |                                | X                              |                                |                                | X                              | 69                             | \n",
       "| 15 | Chasnupp 3                     |                                |                                | X                              | X                              |                                | 74                             | \n",
       "| 16 | Chasnupp 4                     |                                |                                | X                              | X                              |                                |  0                             | \n",
       "| 23 | Comanche Peak Unit 2           | X                              |                                | X                              |                                |                                | 70                             | \n",
       "| 28 | Dukovany 2                     | X                              | X                              |                                |                                |                                | 60                             | \n",
       "| 30 | Dungeness B 3                  | X                              |                                | X                              |                                | X                              | 64                             | \n",
       "| 31 | Dungeness B 4                  | X                              |                                | X                              |                                | X                              | 70                             | \n",
       "| 32 | Fermi Unit 2                   |                                | X                              |                                |                                | X                              | 79                             | \n",
       "| 36 | Forsmark 3                     | X                              |                                |                                |                                | X                              | 65                             | \n",
       "| 38 | Grand Gulf Unit 1              | X                              | X                              |                                |                                |                                | 49                             | \n",
       "| 44 | Heysham A 2                    | X                              |                                | X                              |                                |                                | 70                             | \n",
       "| 50 | Kalinin 3                      | X                              |                                |                                |                                | X                              | 67                             | \n",
       "| 53 | Kudankulam 1                   | X                              | X                              | X                              |                                |                                | 62                             | \n",
       "| 56 | Laguna Verde 1                 |                                | X                              |                                | X                              |                                | 73                             | \n",
       "| 61 | Narora 2                       | X                              |                                |                                |                                | X                              | 77                             | \n",
       "| 73 | Rajasthan 2                    | X                              |                                |                                | X                              | X                              | 50                             | \n",
       "| 77 | Rajasthan 6                    | X                              |                                |                                |                                | X                              | 65                             | \n",
       "| 79 | River Bend Unit 1              | X                              |                                |                                |                                | X                              | 50                             | \n",
       "| 82 | Sequoyah Unit 1                | X                              | X                              |                                |                                |                                | 87                             | \n",
       "| 89 | Temelin 2                      | X                              |                                |                                |                                | X                              | 72                             | \n",
       "| 94 | Watts Bar Unit 2               | X                              |                                | X                              |                                |                                | 60                             | \n",
       "| 96 | Wolsong 3                      | X                              |                                | X                              |                                |                                | 70                             | \n",
       "| 97 | Yangjiang 2                    |                                |                                | X                              |                                | X                              | 90                             | \n",
       "\n",
       "\n"
      ],
      "text/plain": [
       "   onFocus                        FLR SSPI Scram Scrams FRI Idx\n",
       "4  Atucha 2                       X                     X   60 \n",
       "9  Bruce 7                            X                 X   69 \n",
       "15 Chasnupp 3                              X     X          74 \n",
       "16 Chasnupp 4                              X     X           0 \n",
       "23 Comanche Peak Unit 2           X        X                70 \n",
       "28 Dukovany 2                     X   X                     60 \n",
       "30 Dungeness B 3                  X        X            X   64 \n",
       "31 Dungeness B 4                  X        X            X   70 \n",
       "32 Fermi Unit 2                       X                 X   79 \n",
       "36 Forsmark 3                     X                     X   65 \n",
       "38 Grand Gulf Unit 1              X   X                     49 \n",
       "44 Heysham A 2                    X        X                70 \n",
       "50 Kalinin 3                      X                     X   67 \n",
       "53 Kudankulam 1                   X   X    X                62 \n",
       "56 Laguna Verde 1                     X          X          73 \n",
       "61 Narora 2                       X                     X   77 \n",
       "73 Rajasthan 2                    X              X      X   50 \n",
       "77 Rajasthan 6                    X                     X   65 \n",
       "79 River Bend Unit 1              X                     X   50 \n",
       "82 Sequoyah Unit 1                X   X                     87 \n",
       "89 Temelin 2                      X                     X   72 \n",
       "94 Watts Bar Unit 2               X        X                60 \n",
       "96 Wolsong 3                      X        X                70 \n",
       "97 Yangjiang 2                             X            X   90 "
      ]
     },
     "metadata": {},
     "output_type": "display_data"
    },
    {
     "data": {
      "text/html": [
       "24"
      ],
      "text/latex": [
       "24"
      ],
      "text/markdown": [
       "24"
      ],
      "text/plain": [
       "[1] 24"
      ]
     },
     "metadata": {},
     "output_type": "display_data"
    }
   ],
   "source": [
    "df2 <- data.frame()\n",
    "for (n in 1:length(df[,1])){\n",
    "    if (length(which(df[n,]=='X'))>=2)\n",
    "        df2 <- rbind(df2,df[n,])\n",
    "        }\n",
    "df2\n",
    "write.csv(df2,'onFocusShort.csv')\n",
    "length(df2[,1])"
   ]
  },
  {
   "cell_type": "markdown",
   "metadata": {},
   "source": [
    "The list of units which has *more than two* issues listed above - candidates for *units on focus*"
   ]
  },
  {
   "cell_type": "code",
   "execution_count": 12,
   "metadata": {},
   "outputs": [
    {
     "data": {
      "text/html": [
       "<table>\n",
       "<thead><tr><th></th><th scope=col>onFocus</th><th scope=col>FLR</th><th scope=col>SSPI</th><th scope=col>Scram</th><th scope=col>Scrams</th><th scope=col>FRI</th><th scope=col>Idx</th></tr></thead>\n",
       "<tbody>\n",
       "\t<tr><th scope=row>30</th><td>Dungeness B 3                 </td><td>X                             </td><td>                              </td><td>X                             </td><td>                              </td><td>X                             </td><td>64                            </td></tr>\n",
       "\t<tr><th scope=row>31</th><td>Dungeness B 4                 </td><td>X                             </td><td>                              </td><td>X                             </td><td>                              </td><td>X                             </td><td>70                            </td></tr>\n",
       "\t<tr><th scope=row>53</th><td>Kudankulam 1                  </td><td>X                             </td><td>X                             </td><td>X                             </td><td>                              </td><td>                              </td><td>62                            </td></tr>\n",
       "\t<tr><th scope=row>73</th><td>Rajasthan 2                   </td><td>X                             </td><td>                              </td><td>                              </td><td>X                             </td><td>X                             </td><td>50                            </td></tr>\n",
       "</tbody>\n",
       "</table>\n"
      ],
      "text/latex": [
       "\\begin{tabular}{r|lllllll}\n",
       "  & onFocus & FLR & SSPI & Scram & Scrams & FRI & Idx\\\\\n",
       "\\hline\n",
       "\t30 & Dungeness B 3                  & X                              &                                & X                              &                                & X                              & 64                            \\\\\n",
       "\t31 & Dungeness B 4                  & X                              &                                & X                              &                                & X                              & 70                            \\\\\n",
       "\t53 & Kudankulam 1                   & X                              & X                              & X                              &                                &                                & 62                            \\\\\n",
       "\t73 & Rajasthan 2                    & X                              &                                &                                & X                              & X                              & 50                            \\\\\n",
       "\\end{tabular}\n"
      ],
      "text/markdown": [
       "\n",
       "| <!--/--> | onFocus | FLR | SSPI | Scram | Scrams | FRI | Idx | \n",
       "|---|---|---|---|\n",
       "| 30 | Dungeness B 3                  | X                              |                                | X                              |                                | X                              | 64                             | \n",
       "| 31 | Dungeness B 4                  | X                              |                                | X                              |                                | X                              | 70                             | \n",
       "| 53 | Kudankulam 1                   | X                              | X                              | X                              |                                |                                | 62                             | \n",
       "| 73 | Rajasthan 2                    | X                              |                                |                                | X                              | X                              | 50                             | \n",
       "\n",
       "\n"
      ],
      "text/plain": [
       "   onFocus                        FLR SSPI Scram Scrams FRI Idx\n",
       "30 Dungeness B 3                  X        X            X   64 \n",
       "31 Dungeness B 4                  X        X            X   70 \n",
       "53 Kudankulam 1                   X   X    X                62 \n",
       "73 Rajasthan 2                    X              X      X   50 "
      ]
     },
     "metadata": {},
     "output_type": "display_data"
    },
    {
     "data": {
      "text/html": [
       "4"
      ],
      "text/latex": [
       "4"
      ],
      "text/markdown": [
       "4"
      ],
      "text/plain": [
       "[1] 4"
      ]
     },
     "metadata": {},
     "output_type": "display_data"
    }
   ],
   "source": [
    "df3 <- data.frame()\n",
    "for (n in 1:length(df[,1])){\n",
    "    if (length(which(df[n,]=='X'))>=3)\n",
    "        df3 <- rbind(df3,df[n,])\n",
    "        }\n",
    "df3\n",
    "write.csv(df3,'onFocusVeryShort.csv')\n",
    "length(df3[,1])"
   ]
  },
  {
   "cell_type": "markdown",
   "metadata": {},
   "source": [
    "TODOs:\n",
    "- check and print the related comments (if any);\n",
    "- search the related events in the OE DB, sorting them by severity; using the Machine Learning approach will be useful;\n",
    "- provide reccomendations for PR team\n",
    "- add some text summary\n",
    "- remove code"
   ]
  },
  {
   "cell_type": "markdown",
   "metadata": {
    "collapsed": true
   },
   "source": [
    "Conclusions:\n",
    "- the existing PI Indexing system is slightly out-of-date and can be limitedly used even for initial investigation; The Index 4 needs some improvement;\n",
    "- the existing WANO PC approach in selecting 'plants which need more attention' might be used for RC level, but for the whole WANO it represents about a quarter out of all units/plants which does not reflect the real picture;\n",
    "- for WANO level the list of 'units which has more than one safety and reliability issues' might be used to define unit needs more attention;\n",
    "- for WANO level the list of 'units which has more than two safety and reliability issues' might be used to define unit to be on focus;\n",
    "- some units which have not good chemistry and industrial safety were not included into the lists above - probably the assesment criteria should be reevaluated;\n",
    "- the last two tables with the assesment criteria might be included into the PI Quarter Report"
   ]
  },
  {
   "cell_type": "code",
   "execution_count": null,
   "metadata": {
    "collapsed": true
   },
   "outputs": [],
   "source": []
  }
 ],
 "metadata": {
  "kernelspec": {
   "display_name": "R",
   "language": "R",
   "name": "ir"
  },
  "language_info": {
   "codemirror_mode": "r",
   "file_extension": ".r",
   "mimetype": "text/x-r-source",
   "name": "R",
   "pygments_lexer": "r",
   "version": "3.4.2"
  }
 },
 "nbformat": 4,
 "nbformat_minor": 2
}
